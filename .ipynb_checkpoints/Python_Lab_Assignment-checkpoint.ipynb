{
 "cells": [
  {
   "cell_type": "markdown",
   "metadata": {},
   "source": [
    "# PyCity Schools Analysis\n",
    "\n",
    "* As a whole, schools with higher budgets, did not yield better test results. By contrast, schools with higher spending per student actually (\\\\$645 - 675) underperformed compared to schools with smaller budgets (\\\\$585 per student).\n",
    "\n",
    "* As a whole, smaller and medium sized schools dramatically out-performed large sized schools on passing math performances (89-91% passing vs 67%).\n",
    "\n",
    "* As a whole, charter schools out-performed the public district schools across all metrics. However, more analysis will be required to glean if the effect is due to school practices or the fact that charter schools tend to serve smaller student populations per school. \n",
    "---"
   ]
  },
  {
   "cell_type": "markdown",
   "metadata": {},
   "source": [
    "**Note:**\n",
    "Instructions have been included for each segment. You do not have to follow them exactly, but they are included to help you think through the steps."
   ]
  },
  {
   "cell_type": "code",
   "execution_count": 5,
   "metadata": {
    "ExecuteTime": {
     "end_time": "2022-08-06T06:08:31.925112Z",
     "start_time": "2022-08-06T06:08:29.337754Z"
    }
   },
   "outputs": [],
   "source": [
    "# Dependencies and Setup\n",
    "import pandas as pd\n",
    "import numpy as np\n",
    "import sqlite3\n",
    "\n",
    "# loading data from python.db database\n",
    "con = sqlite3.connect('python1.db')\n",
    "\n",
    "# Read 'school' and 'student' tables into pandas dataframe\n",
    "school_data = pd.read_sql_query(\"SELECT * from school\", con)\n",
    "student_data = pd.read_sql_query(\"SELECT * from student\", con)\n"
   ]
  },
  {
   "cell_type": "code",
   "execution_count": 7,
   "metadata": {},
   "outputs": [
    {
     "data": {
      "text/html": [
       "<div>\n",
       "<style scoped>\n",
       "    .dataframe tbody tr th:only-of-type {\n",
       "        vertical-align: middle;\n",
       "    }\n",
       "\n",
       "    .dataframe tbody tr th {\n",
       "        vertical-align: top;\n",
       "    }\n",
       "\n",
       "    .dataframe thead th {\n",
       "        text-align: right;\n",
       "    }\n",
       "</style>\n",
       "<table border=\"1\" class=\"dataframe\">\n",
       "  <thead>\n",
       "    <tr style=\"text-align: right;\">\n",
       "      <th></th>\n",
       "      <th>id_x</th>\n",
       "      <th>Student ID</th>\n",
       "      <th>student_name</th>\n",
       "      <th>gender</th>\n",
       "      <th>grade</th>\n",
       "      <th>school_name</th>\n",
       "      <th>reading_score</th>\n",
       "      <th>math_score</th>\n",
       "      <th>id_y</th>\n",
       "      <th>School ID</th>\n",
       "      <th>type</th>\n",
       "      <th>size</th>\n",
       "      <th>budget</th>\n",
       "    </tr>\n",
       "  </thead>\n",
       "  <tbody>\n",
       "    <tr>\n",
       "      <th>0</th>\n",
       "      <td>0</td>\n",
       "      <td>0</td>\n",
       "      <td>Paul Bradley</td>\n",
       "      <td>M</td>\n",
       "      <td>9th</td>\n",
       "      <td>Huang High School</td>\n",
       "      <td>66</td>\n",
       "      <td>79</td>\n",
       "      <td>0</td>\n",
       "      <td>0</td>\n",
       "      <td>District</td>\n",
       "      <td>2917</td>\n",
       "      <td>1910635</td>\n",
       "    </tr>\n",
       "    <tr>\n",
       "      <th>1</th>\n",
       "      <td>1</td>\n",
       "      <td>1</td>\n",
       "      <td>Victor Smith</td>\n",
       "      <td>M</td>\n",
       "      <td>12th</td>\n",
       "      <td>Huang High School</td>\n",
       "      <td>94</td>\n",
       "      <td>61</td>\n",
       "      <td>0</td>\n",
       "      <td>0</td>\n",
       "      <td>District</td>\n",
       "      <td>2917</td>\n",
       "      <td>1910635</td>\n",
       "    </tr>\n",
       "    <tr>\n",
       "      <th>2</th>\n",
       "      <td>2</td>\n",
       "      <td>2</td>\n",
       "      <td>Kevin Rodriguez</td>\n",
       "      <td>M</td>\n",
       "      <td>12th</td>\n",
       "      <td>Huang High School</td>\n",
       "      <td>90</td>\n",
       "      <td>60</td>\n",
       "      <td>0</td>\n",
       "      <td>0</td>\n",
       "      <td>District</td>\n",
       "      <td>2917</td>\n",
       "      <td>1910635</td>\n",
       "    </tr>\n",
       "    <tr>\n",
       "      <th>3</th>\n",
       "      <td>3</td>\n",
       "      <td>3</td>\n",
       "      <td>Dr. Richard Scott</td>\n",
       "      <td>M</td>\n",
       "      <td>12th</td>\n",
       "      <td>Huang High School</td>\n",
       "      <td>67</td>\n",
       "      <td>58</td>\n",
       "      <td>0</td>\n",
       "      <td>0</td>\n",
       "      <td>District</td>\n",
       "      <td>2917</td>\n",
       "      <td>1910635</td>\n",
       "    </tr>\n",
       "    <tr>\n",
       "      <th>4</th>\n",
       "      <td>4</td>\n",
       "      <td>4</td>\n",
       "      <td>Bonnie Ray</td>\n",
       "      <td>F</td>\n",
       "      <td>9th</td>\n",
       "      <td>Huang High School</td>\n",
       "      <td>97</td>\n",
       "      <td>84</td>\n",
       "      <td>0</td>\n",
       "      <td>0</td>\n",
       "      <td>District</td>\n",
       "      <td>2917</td>\n",
       "      <td>1910635</td>\n",
       "    </tr>\n",
       "  </tbody>\n",
       "</table>\n",
       "</div>"
      ],
      "text/plain": [
       "   id_x  Student ID       student_name gender grade        school_name  \\\n",
       "0     0           0       Paul Bradley      M   9th  Huang High School   \n",
       "1     1           1       Victor Smith      M  12th  Huang High School   \n",
       "2     2           2    Kevin Rodriguez      M  12th  Huang High School   \n",
       "3     3           3  Dr. Richard Scott      M  12th  Huang High School   \n",
       "4     4           4         Bonnie Ray      F   9th  Huang High School   \n",
       "\n",
       "   reading_score  math_score  id_y  School ID      type  size   budget  \n",
       "0             66          79     0          0  District  2917  1910635  \n",
       "1             94          61     0          0  District  2917  1910635  \n",
       "2             90          60     0          0  District  2917  1910635  \n",
       "3             67          58     0          0  District  2917  1910635  \n",
       "4             97          84     0          0  District  2917  1910635  "
      ]
     },
     "execution_count": 7,
     "metadata": {},
     "output_type": "execute_result"
    }
   ],
   "source": [
    "# Combine the data into a single dataset\n",
    "school_data_complete = pd.merge(student_data, school_data, how=\"left\", on=[\"school_name\", \"school_name\"])\n",
    "school_data_complete.head()"
   ]
  },
  {
   "cell_type": "markdown",
   "metadata": {},
   "source": [
    "## District Summary\n",
    "\n",
    "* Calculate the total number of schools\n",
    "\n",
    "* Calculate the total number of students\n",
    "\n",
    "* Calculate the total budget\n",
    "\n",
    "* Calculate the average math score \n",
    "\n",
    "* Calculate the average reading score\n",
    "\n",
    "* Calculate the overall passing rate (overall average score), i.e. (avg. math score + avg. reading score)/2\n",
    "\n",
    "* Calculate the percentage of students with a passing math score (70 or greater)\n",
    "\n",
    "* Calculate the percentage of students with a passing reading score (70 or greater)\n",
    "\n",
    "* Create a dataframe to hold the above results\n",
    "\n",
    "* Optional: give the displayed data cleaner formatting"
   ]
  },
  {
   "cell_type": "code",
   "execution_count": 37,
   "metadata": {},
   "outputs": [
    {
     "name": "stdout",
     "output_type": "stream",
     "text": [
      "\n",
      "District Summary:\n",
      "|    | Total Schools   | Total Students   | Total Budget   | Average Math Score   | Average Reading Score   | % Passing Math   |\n",
      "|:---|:----------------|:-----------------|:---------------|:---------------------|:------------------------|:-----------------|\n",
      "| 0  | 15              | 39170            | 8.29323e+10    | 78.9854              | 81.8778                 | 74.9809          |\n"
     ]
    }
   ],
   "source": [
    "# Create a District Summary\n",
    "district_summary_df = pd.DataFrame({\n",
    "    \"Total Schools\": [total_schools],\n",
    "    \"Total Students\": [total_students],\n",
    "    \"Total Budget\": [total_budget],\n",
    "    \"Average Math Score\": [average_math_score],\n",
    "    \"Average Reading Score\": [average_reading_score],\n",
    "    \"% Passing Math\": [passing_math_percentage]\n",
    "})\n",
    "\n",
    "print(\"\\nDistrict Summary:\")\n",
    "print(district_summary_df.to_markdown(numalign=\"left\", stralign=\"left\"))"
   ]
  },
  {
   "cell_type": "code",
   "execution_count": 9,
   "metadata": {},
   "outputs": [
    {
     "name": "stdout",
     "output_type": "stream",
     "text": [
      "Total number of schools: 15\n"
     ]
    }
   ],
   "source": [
    "# Total number of schools\n",
    "total_schools = len(school_data_complete['school_name'].unique())\n",
    "print(\"Total number of schools:\", total_schools)"
   ]
  },
  {
   "cell_type": "code",
   "execution_count": 11,
   "metadata": {},
   "outputs": [
    {
     "name": "stdout",
     "output_type": "stream",
     "text": [
      "Total number of students: 39170\n"
     ]
    }
   ],
   "source": [
    "# Total number of students\n",
    "total_students = school_data_complete['student_name'].count()\n",
    "print(\"Total number of students:\", total_students)"
   ]
  },
  {
   "cell_type": "code",
   "execution_count": 19,
   "metadata": {},
   "outputs": [
    {
     "name": "stdout",
     "output_type": "stream",
     "text": [
      "Total budget: 82932329558 $\n"
     ]
    }
   ],
   "source": [
    "# Total budget\n",
    "total_budget = school_data_complete['budget'].sum()\n",
    "print(\"Total budget:\",total_budget,\"$\")"
   ]
  },
  {
   "cell_type": "code",
   "execution_count": 21,
   "metadata": {},
   "outputs": [
    {
     "name": "stdout",
     "output_type": "stream",
     "text": [
      "Average math score: 78.98537145774827\n"
     ]
    }
   ],
   "source": [
    "# Average math score\n",
    "average_math_score = school_data_complete['math_score'].mean()\n",
    "print(\"Average math score:\", average_math_score)"
   ]
  },
  {
   "cell_type": "code",
   "execution_count": 23,
   "metadata": {},
   "outputs": [
    {
     "name": "stdout",
     "output_type": "stream",
     "text": [
      "Average reading score: 81.87784018381414\n"
     ]
    }
   ],
   "source": [
    "# Average reading score\n",
    "average_reading_score = school_data_complete['reading_score'].mean()\n",
    "print(\"Average reading score:\", average_reading_score)"
   ]
  },
  {
   "cell_type": "code",
   "execution_count": 25,
   "metadata": {},
   "outputs": [
    {
     "name": "stdout",
     "output_type": "stream",
     "text": [
      "Overall average score: 80.43160582078121\n"
     ]
    }
   ],
   "source": [
    "# Overall average score\n",
    "overall_average_score = (average_math_score + average_reading_score) / 2\n",
    "print(\"Overall average score:\", overall_average_score)"
   ]
  },
  {
   "cell_type": "code",
   "execution_count": 27,
   "metadata": {},
   "outputs": [
    {
     "name": "stdout",
     "output_type": "stream",
     "text": [
      "Percentage of passing math (70 or greater): 74.9808526933878\n"
     ]
    }
   ],
   "source": [
    "# Percentage of passing math (70 or greater)\n",
    "passing_math_percentage = (school_data_complete['math_score'] >= 70).mean() * 100\n",
    "print(\"Percentage of passing math (70 or greater):\", passing_math_percentage)"
   ]
  },
  {
   "cell_type": "markdown",
   "metadata": {},
   "source": [
    "## School Summary"
   ]
  },
  {
   "cell_type": "markdown",
   "metadata": {},
   "source": [
    "* Create an overview table that summarizes key metrics about each school, including:\n",
    "  * School Name\n",
    "  * School Type\n",
    "  * Total Students\n",
    "  * Total School Budget\n",
    "  * Per Student Budget\n",
    "  * Average Math Score\n",
    "  * Average Reading Score\n",
    "  * % Passing Math\n",
    "  * % Passing Reading\n",
    "  * Overall Passing Rate (Average of the above two)\n",
    "  \n",
    "* Create a dataframe to hold the above results"
   ]
  },
  {
   "cell_type": "markdown",
   "metadata": {},
   "source": [
    "### Top Performing Schools (By Passing Rate)"
   ]
  },
  {
   "cell_type": "markdown",
   "metadata": {},
   "source": [
    "* Sort and display the top five schools in overall passing rate"
   ]
  },
  {
   "cell_type": "code",
   "execution_count": 41,
   "metadata": {},
   "outputs": [
    {
     "name": "stdout",
     "output_type": "stream",
     "text": [
      "\n",
      "Top Performing Schools (By Passing Rate):\n",
      "| school_name         | passing_math_rate   | passing_reading_rate   | overall_passing_rate   |\n",
      "|:--------------------|:--------------------|:-----------------------|:-----------------------|\n",
      "| Cabrera High School | 0.941335            | 0.970398               | 0.955867               |\n",
      "| Thomas High School  | 0.932722            | 0.973089               | 0.952905               |\n",
      "| Pena High School    | 0.945946            | 0.959459               | 0.952703               |\n",
      "| Griffin High School | 0.933924            | 0.97139                | 0.952657               |\n",
      "| Wilson High School  | 0.938677            | 0.965396               | 0.952037               |\n"
     ]
    }
   ],
   "source": [
    "#  Sort and display the top five schools in overall passing rate\n",
    "math_passing_score = 70\n",
    "reading_passing_score = 70\n",
    "\n",
    "school_data_complete['passing_math'] = (school_data_complete['math_score'] >= math_passing_score).astype(int)\n",
    "school_data_complete['passing_reading'] = (school_data_complete['reading_score'] >= reading_passing_score).astype(int)\n",
    "\n",
    "school_passing_rates = school_data_complete.groupby('school_name').agg(\n",
    "    passing_math_rate=('passing_math', 'mean'),\n",
    "    passing_reading_rate=('passing_reading', 'mean')\n",
    ")\n",
    "\n",
    "school_passing_rates['overall_passing_rate'] = (school_passing_rates['passing_math_rate'] + school_passing_rates['passing_reading_rate']) / 2\n",
    "\n",
    "top_performing_schools = school_passing_rates.sort_values('overall_passing_rate', ascending=False).head(5)\n",
    "\n",
    "print(\"\\nTop Performing Schools (By Passing Rate):\")\n",
    "print(top_performing_schools.to_markdown(numalign=\"left\", stralign=\"left\"))"
   ]
  },
  {
   "cell_type": "code",
   "execution_count": 43,
   "metadata": {
    "scrolled": true
   },
   "outputs": [
    {
     "name": "stdout",
     "output_type": "stream",
     "text": [
      "\n",
      "Total budget for top performing schools: 8637749836\n"
     ]
    }
   ],
   "source": [
    "# Calculate total school budget\n",
    "total_budget_top_schools = school_data_complete[school_data_complete['school_name'].isin(top_performing_schools.index)]['budget'].sum()\n",
    "\n",
    "print(\"\\nTotal budget for top performing schools:\", total_budget_top_schools)"
   ]
  },
  {
   "cell_type": "code",
   "execution_count": 47,
   "metadata": {},
   "outputs": [
    {
     "name": "stdout",
     "output_type": "stream",
     "text": [
      "\n",
      "Per student budget for top performing schools: 1052613.92103339\n"
     ]
    }
   ],
   "source": [
    "# Calculate per student budget\n",
    "total_students_top_schools = school_data_complete[school_data_complete['school_name'].isin(top_performing_schools.index)]['student_name'].count()\n",
    "per_student_budget_top_schools = total_budget_top_schools / total_students_top_schools\n",
    "\n",
    "print(\"\\nPer student budget for top performing schools:\", per_student_budget_top_schools)"
   ]
  },
  {
   "cell_type": "code",
   "execution_count": 49,
   "metadata": {},
   "outputs": [
    {
     "name": "stdout",
     "output_type": "stream",
     "text": [
      "\n",
      "Average math score for top performing schools: 83.33499878137948\n",
      "Average reading score for top performing schools: 83.93395076773093\n"
     ]
    }
   ],
   "source": [
    "# Cacluate the avg math and reading score\n",
    "avg_math_score_top_schools = school_data_complete[school_data_complete['school_name'].isin(top_performing_schools.index)]['math_score'].mean()\n",
    "avg_reading_score_top_schools = school_data_complete[school_data_complete['school_name'].isin(top_performing_schools.index)]['reading_score'].mean()\n",
    "\n",
    "print(\"\\nAverage math score for top performing schools:\", avg_math_score_top_schools)\n",
    "print(\"Average reading score for top performing schools:\", avg_reading_score_top_schools)\n"
   ]
  },
  {
   "cell_type": "markdown",
   "metadata": {},
   "source": [
    "#### Find the passing rate for math and reading (above 70 points)"
   ]
  },
  {
   "cell_type": "code",
   "execution_count": 53,
   "metadata": {},
   "outputs": [
    {
     "name": "stdout",
     "output_type": "stream",
     "text": [
      "\n",
      "Total Counts of Math Results:\n",
      "| math_score   | count   |\n",
      "|:-------------|:--------|\n",
      "| 55           | 574     |\n",
      "| 56           | 584     |\n",
      "| 57           | 617     |\n",
      "| 58           | 601     |\n",
      "| 59           | 583     |\n",
      "| 60           | 603     |\n",
      "| 61           | 633     |\n",
      "| 62           | 610     |\n",
      "| 63           | 619     |\n",
      "| 64           | 558     |\n",
      "| 65           | 633     |\n",
      "| 66           | 613     |\n",
      "| 67           | 575     |\n",
      "| 68           | 1005    |\n",
      "| 69           | 992     |\n",
      "| 70           | 1014    |\n",
      "| 71           | 971     |\n",
      "| 72           | 1003    |\n",
      "| 73           | 979     |\n",
      "| 74           | 983     |\n",
      "| 75           | 964     |\n",
      "| 76           | 956     |\n",
      "| 77           | 980     |\n",
      "| 78           | 1019    |\n",
      "| 79           | 979     |\n",
      "| 80           | 917     |\n",
      "| 81           | 1017    |\n",
      "| 82           | 950     |\n",
      "| 83           | 1017    |\n",
      "| 84           | 1028    |\n",
      "| 85           | 989     |\n",
      "| 86           | 925     |\n",
      "| 87           | 964     |\n",
      "| 88           | 926     |\n",
      "| 89           | 998     |\n",
      "| 90           | 957     |\n",
      "| 91           | 1016    |\n",
      "| 92           | 970     |\n",
      "| 93           | 980     |\n",
      "| 94           | 1004    |\n",
      "| 95           | 999     |\n",
      "| 96           | 956     |\n",
      "| 97           | 949     |\n",
      "| 98           | 973     |\n",
      "| 99           | 987     |\n",
      "\n",
      "Counts of Math Results (Passing Students) in Each School:\n",
      "|                               | count   |\n",
      "|:------------------------------|:--------|\n",
      "| ('Bailey High School', 70)    | 102     |\n",
      "| ('Bailey High School', 71)    | 107     |\n",
      "| ('Bailey High School', 72)    | 119     |\n",
      "| ('Bailey High School', 73)    | 109     |\n",
      "| ('Bailey High School', 74)    | 102     |\n",
      "| ('Bailey High School', 75)    | 109     |\n",
      "| ('Bailey High School', 76)    | 114     |\n",
      "| ('Bailey High School', 77)    | 120     |\n",
      "| ('Bailey High School', 78)    | 114     |\n",
      "| ('Bailey High School', 79)    | 104     |\n",
      "| ('Bailey High School', 80)    | 95      |\n",
      "| ('Bailey High School', 81)    | 124     |\n",
      "| ('Bailey High School', 82)    | 108     |\n",
      "| ('Bailey High School', 83)    | 106     |\n",
      "| ('Bailey High School', 84)    | 121     |\n",
      "| ('Bailey High School', 85)    | 119     |\n",
      "| ('Bailey High School', 86)    | 109     |\n",
      "| ('Bailey High School', 87)    | 123     |\n",
      "| ('Bailey High School', 88)    | 114     |\n",
      "| ('Bailey High School', 89)    | 106     |\n",
      "| ('Bailey High School', 90)    | 96      |\n",
      "| ('Bailey High School', 91)    | 130     |\n",
      "| ('Bailey High School', 92)    | 105     |\n",
      "| ('Bailey High School', 93)    | 116     |\n",
      "| ('Bailey High School', 94)    | 99      |\n",
      "| ('Bailey High School', 95)    | 100     |\n",
      "| ('Bailey High School', 96)    | 122     |\n",
      "| ('Bailey High School', 97)    | 119     |\n",
      "| ('Bailey High School', 98)    | 100     |\n",
      "| ('Bailey High School', 99)    | 106     |\n",
      "| ('Cabrera High School', 70)   | 85      |\n",
      "| ('Cabrera High School', 71)   | 64      |\n",
      "| ('Cabrera High School', 72)   | 65      |\n",
      "| ('Cabrera High School', 73)   | 69      |\n",
      "| ('Cabrera High School', 74)   | 53      |\n",
      "| ('Cabrera High School', 75)   | 47      |\n",
      "| ('Cabrera High School', 76)   | 56      |\n",
      "| ('Cabrera High School', 77)   | 57      |\n",
      "| ('Cabrera High School', 78)   | 69      |\n",
      "| ('Cabrera High School', 79)   | 65      |\n",
      "| ('Cabrera High School', 80)   | 53      |\n",
      "| ('Cabrera High School', 81)   | 68      |\n",
      "| ('Cabrera High School', 82)   | 63      |\n",
      "| ('Cabrera High School', 83)   | 46      |\n",
      "| ('Cabrera High School', 84)   | 54      |\n",
      "| ('Cabrera High School', 85)   | 57      |\n",
      "| ('Cabrera High School', 86)   | 53      |\n",
      "| ('Cabrera High School', 87)   | 47      |\n",
      "| ('Cabrera High School', 88)   | 50      |\n",
      "| ('Cabrera High School', 89)   | 65      |\n",
      "| ('Cabrera High School', 90)   | 58      |\n",
      "| ('Cabrera High School', 91)   | 58      |\n",
      "| ('Cabrera High School', 92)   | 47      |\n",
      "| ('Cabrera High School', 93)   | 66      |\n",
      "| ('Cabrera High School', 94)   | 78      |\n",
      "| ('Cabrera High School', 95)   | 57      |\n",
      "| ('Cabrera High School', 96)   | 53      |\n",
      "| ('Cabrera High School', 97)   | 48      |\n",
      "| ('Cabrera High School', 98)   | 50      |\n",
      "| ('Cabrera High School', 99)   | 48      |\n",
      "| ('Figueroa High School', 70)  | 66      |\n",
      "| ('Figueroa High School', 71)  | 76      |\n",
      "| ('Figueroa High School', 72)  | 69      |\n",
      "| ('Figueroa High School', 73)  | 69      |\n",
      "| ('Figueroa High School', 74)  | 72      |\n",
      "| ('Figueroa High School', 75)  | 59      |\n",
      "| ('Figueroa High School', 76)  | 67      |\n",
      "| ('Figueroa High School', 77)  | 60      |\n",
      "| ('Figueroa High School', 78)  | 65      |\n",
      "| ('Figueroa High School', 79)  | 61      |\n",
      "| ('Figueroa High School', 80)  | 65      |\n",
      "| ('Figueroa High School', 81)  | 57      |\n",
      "| ('Figueroa High School', 82)  | 60      |\n",
      "| ('Figueroa High School', 83)  | 83      |\n",
      "| ('Figueroa High School', 84)  | 72      |\n",
      "| ('Figueroa High School', 85)  | 53      |\n",
      "| ('Figueroa High School', 86)  | 65      |\n",
      "| ('Figueroa High School', 87)  | 67      |\n",
      "| ('Figueroa High School', 88)  | 55      |\n",
      "| ('Figueroa High School', 89)  | 63      |\n",
      "| ('Figueroa High School', 90)  | 66      |\n",
      "| ('Figueroa High School', 91)  | 75      |\n",
      "| ('Figueroa High School', 92)  | 60      |\n",
      "| ('Figueroa High School', 93)  | 61      |\n",
      "| ('Figueroa High School', 94)  | 61      |\n",
      "| ('Figueroa High School', 95)  | 71      |\n",
      "| ('Figueroa High School', 96)  | 49      |\n",
      "| ('Figueroa High School', 97)  | 64      |\n",
      "| ('Figueroa High School', 98)  | 65      |\n",
      "| ('Figueroa High School', 99)  | 70      |\n",
      "| ('Ford High School', 70)      | 70      |\n",
      "| ('Ford High School', 71)      | 74      |\n",
      "| ('Ford High School', 72)      | 54      |\n",
      "| ('Ford High School', 73)      | 59      |\n",
      "| ('Ford High School', 74)      | 63      |\n",
      "| ('Ford High School', 75)      | 56      |\n",
      "| ('Ford High School', 76)      | 68      |\n",
      "| ('Ford High School', 77)      | 66      |\n",
      "| ('Ford High School', 78)      | 75      |\n",
      "| ('Ford High School', 79)      | 63      |\n",
      "| ('Ford High School', 80)      | 63      |\n",
      "| ('Ford High School', 81)      | 62      |\n",
      "| ('Ford High School', 82)      | 56      |\n",
      "| ('Ford High School', 83)      | 66      |\n",
      "| ('Ford High School', 84)      | 63      |\n",
      "| ('Ford High School', 85)      | 65      |\n",
      "| ('Ford High School', 86)      | 68      |\n",
      "| ('Ford High School', 87)      | 55      |\n",
      "| ('Ford High School', 88)      | 79      |\n",
      "| ('Ford High School', 89)      | 77      |\n",
      "| ('Ford High School', 90)      | 65      |\n",
      "| ('Ford High School', 91)      | 49      |\n",
      "| ('Ford High School', 92)      | 56      |\n",
      "| ('Ford High School', 93)      | 40      |\n",
      "| ('Ford High School', 94)      | 71      |\n",
      "| ('Ford High School', 95)      | 55      |\n",
      "| ('Ford High School', 96)      | 54      |\n",
      "| ('Ford High School', 97)      | 62      |\n",
      "| ('Ford High School', 98)      | 62      |\n",
      "| ('Ford High School', 99)      | 55      |\n",
      "| ('Griffin High School', 70)   | 54      |\n",
      "| ('Griffin High School', 71)   | 49      |\n",
      "| ('Griffin High School', 72)   | 42      |\n",
      "| ('Griffin High School', 73)   | 41      |\n",
      "| ('Griffin High School', 74)   | 38      |\n",
      "| ('Griffin High School', 75)   | 54      |\n",
      "| ('Griffin High School', 76)   | 40      |\n",
      "| ('Griffin High School', 77)   | 46      |\n",
      "| ('Griffin High School', 78)   | 53      |\n",
      "| ('Griffin High School', 79)   | 38      |\n",
      "| ('Griffin High School', 80)   | 48      |\n",
      "| ('Griffin High School', 81)   | 46      |\n",
      "| ('Griffin High School', 82)   | 44      |\n",
      "| ('Griffin High School', 83)   | 57      |\n",
      "| ('Griffin High School', 84)   | 49      |\n",
      "| ('Griffin High School', 85)   | 45      |\n",
      "| ('Griffin High School', 86)   | 43      |\n",
      "| ('Griffin High School', 87)   | 37      |\n",
      "| ('Griffin High School', 88)   | 53      |\n",
      "| ('Griffin High School', 89)   | 53      |\n",
      "| ('Griffin High School', 90)   | 38      |\n",
      "| ('Griffin High School', 91)   | 46      |\n",
      "| ('Griffin High School', 92)   | 53      |\n",
      "| ('Griffin High School', 93)   | 32      |\n",
      "| ('Griffin High School', 94)   | 42      |\n",
      "| ('Griffin High School', 95)   | 54      |\n",
      "| ('Griffin High School', 96)   | 45      |\n",
      "| ('Griffin High School', 97)   | 41      |\n",
      "| ('Griffin High School', 98)   | 38      |\n",
      "| ('Griffin High School', 99)   | 52      |\n",
      "| ('Hernandez High School', 70) | 93      |\n",
      "| ('Hernandez High School', 71) | 96      |\n",
      "| ('Hernandez High School', 72) | 89      |\n",
      "| ('Hernandez High School', 73) | 105     |\n",
      "| ('Hernandez High School', 74) | 110     |\n",
      "| ('Hernandez High School', 75) | 88      |\n",
      "| ('Hernandez High School', 76) | 94      |\n",
      "| ('Hernandez High School', 77) | 106     |\n",
      "| ('Hernandez High School', 78) | 102     |\n",
      "| ('Hernandez High School', 79) | 96      |\n",
      "| ('Hernandez High School', 80) | 90      |\n",
      "| ('Hernandez High School', 81) | 98      |\n",
      "| ('Hernandez High School', 82) | 106     |\n",
      "| ('Hernandez High School', 83) | 105     |\n",
      "| ('Hernandez High School', 84) | 116     |\n",
      "| ('Hernandez High School', 85) | 100     |\n",
      "| ('Hernandez High School', 86) | 83      |\n",
      "| ('Hernandez High School', 87) | 109     |\n",
      "| ('Hernandez High School', 88) | 95      |\n",
      "| ('Hernandez High School', 89) | 108     |\n",
      "| ('Hernandez High School', 90) | 115     |\n",
      "| ('Hernandez High School', 91) | 116     |\n",
      "| ('Hernandez High School', 92) | 107     |\n",
      "| ('Hernandez High School', 93) | 99      |\n",
      "| ('Hernandez High School', 94) | 107     |\n",
      "| ('Hernandez High School', 95) | 119     |\n",
      "| ('Hernandez High School', 96) | 118     |\n",
      "| ('Hernandez High School', 97) | 95      |\n",
      "| ('Hernandez High School', 98) | 106     |\n",
      "| ('Hernandez High School', 99) | 123     |\n",
      "| ('Holden High School', 70)    | 8       |\n",
      "| ('Holden High School', 71)    | 12      |\n",
      "| ('Holden High School', 72)    | 10      |\n",
      "| ('Holden High School', 73)    | 18      |\n",
      "| ('Holden High School', 74)    | 10      |\n",
      "| ('Holden High School', 75)    | 13      |\n",
      "| ('Holden High School', 76)    | 7       |\n",
      "| ('Holden High School', 77)    | 16      |\n",
      "| ('Holden High School', 78)    | 14      |\n",
      "| ('Holden High School', 79)    | 10      |\n",
      "| ('Holden High School', 80)    | 16      |\n",
      "| ('Holden High School', 81)    | 13      |\n",
      "| ('Holden High School', 82)    | 14      |\n",
      "| ('Holden High School', 83)    | 20      |\n",
      "| ('Holden High School', 84)    | 13      |\n",
      "| ('Holden High School', 85)    | 19      |\n",
      "| ('Holden High School', 86)    | 11      |\n",
      "| ('Holden High School', 87)    | 11      |\n",
      "| ('Holden High School', 88)    | 9       |\n",
      "| ('Holden High School', 89)    | 16      |\n",
      "| ('Holden High School', 90)    | 8       |\n",
      "| ('Holden High School', 91)    | 6       |\n",
      "| ('Holden High School', 92)    | 13      |\n",
      "| ('Holden High School', 93)    | 20      |\n",
      "| ('Holden High School', 94)    | 15      |\n",
      "| ('Holden High School', 95)    | 14      |\n",
      "| ('Holden High School', 96)    | 15      |\n",
      "| ('Holden High School', 97)    | 12      |\n",
      "| ('Holden High School', 98)    | 17      |\n",
      "| ('Holden High School', 99)    | 15      |\n",
      "| ('Huang High School', 70)     | 69      |\n",
      "| ('Huang High School', 71)     | 71      |\n",
      "| ('Huang High School', 72)     | 69      |\n",
      "| ('Huang High School', 73)     | 61      |\n",
      "| ('Huang High School', 74)     | 72      |\n",
      "| ('Huang High School', 75)     | 60      |\n",
      "| ('Huang High School', 76)     | 60      |\n",
      "| ('Huang High School', 77)     | 68      |\n",
      "| ('Huang High School', 78)     | 76      |\n",
      "| ('Huang High School', 79)     | 74      |\n",
      "| ('Huang High School', 80)     | 59      |\n",
      "| ('Huang High School', 81)     | 77      |\n",
      "| ('Huang High School', 82)     | 56      |\n",
      "| ('Huang High School', 83)     | 72      |\n",
      "| ('Huang High School', 84)     | 57      |\n",
      "| ('Huang High School', 85)     | 57      |\n",
      "| ('Huang High School', 86)     | 44      |\n",
      "| ('Huang High School', 87)     | 70      |\n",
      "| ('Huang High School', 88)     | 48      |\n",
      "| ('Huang High School', 89)     | 56      |\n",
      "| ('Huang High School', 90)     | 55      |\n",
      "| ('Huang High School', 91)     | 61      |\n",
      "| ('Huang High School', 92)     | 66      |\n",
      "| ('Huang High School', 93)     | 71      |\n",
      "| ('Huang High School', 94)     | 66      |\n",
      "| ('Huang High School', 95)     | 75      |\n",
      "| ('Huang High School', 96)     | 66      |\n",
      "| ('Huang High School', 97)     | 63      |\n",
      "| ('Huang High School', 98)     | 61      |\n",
      "| ('Huang High School', 99)     | 56      |\n",
      "| ('Johnson High School', 70)   | 105     |\n",
      "| ('Johnson High School', 71)   | 98      |\n",
      "| ('Johnson High School', 72)   | 112     |\n",
      "| ('Johnson High School', 73)   | 101     |\n",
      "| ('Johnson High School', 74)   | 118     |\n",
      "| ('Johnson High School', 75)   | 104     |\n",
      "| ('Johnson High School', 76)   | 93      |\n",
      "| ('Johnson High School', 77)   | 98      |\n",
      "| ('Johnson High School', 78)   | 105     |\n",
      "| ('Johnson High School', 79)   | 92      |\n",
      "| ('Johnson High School', 80)   | 83      |\n",
      "| ('Johnson High School', 81)   | 117     |\n",
      "| ('Johnson High School', 82)   | 103     |\n",
      "| ('Johnson High School', 83)   | 101     |\n",
      "| ('Johnson High School', 84)   | 96      |\n",
      "| ('Johnson High School', 85)   | 114     |\n",
      "| ('Johnson High School', 86)   | 108     |\n",
      "| ('Johnson High School', 87)   | 109     |\n",
      "| ('Johnson High School', 88)   | 81      |\n",
      "| ('Johnson High School', 89)   | 117     |\n",
      "| ('Johnson High School', 90)   | 99      |\n",
      "| ('Johnson High School', 91)   | 102     |\n",
      "| ('Johnson High School', 92)   | 96      |\n",
      "| ('Johnson High School', 93)   | 136     |\n",
      "| ('Johnson High School', 94)   | 100     |\n",
      "| ('Johnson High School', 95)   | 97      |\n",
      "| ('Johnson High School', 96)   | 105     |\n",
      "| ('Johnson High School', 97)   | 118     |\n",
      "| ('Johnson High School', 98)   | 122     |\n",
      "| ('Johnson High School', 99)   | 115     |\n",
      "| ('Pena High School', 70)      | 28      |\n",
      "| ('Pena High School', 71)      | 26      |\n",
      "| ('Pena High School', 72)      | 38      |\n",
      "| ('Pena High School', 73)      | 39      |\n",
      "| ('Pena High School', 74)      | 32      |\n",
      "| ('Pena High School', 75)      | 37      |\n",
      "| ('Pena High School', 76)      | 24      |\n",
      "| ('Pena High School', 77)      | 27      |\n",
      "| ('Pena High School', 78)      | 22      |\n",
      "| ('Pena High School', 79)      | 28      |\n",
      "| ('Pena High School', 80)      | 24      |\n",
      "| ('Pena High School', 81)      | 28      |\n",
      "| ('Pena High School', 82)      | 27      |\n",
      "| ('Pena High School', 83)      | 21      |\n",
      "| ('Pena High School', 84)      | 34      |\n",
      "| ('Pena High School', 85)      | 28      |\n",
      "| ('Pena High School', 86)      | 33      |\n",
      "| ('Pena High School', 87)      | 24      |\n",
      "| ('Pena High School', 88)      | 44      |\n",
      "| ('Pena High School', 89)      | 23      |\n",
      "| ('Pena High School', 90)      | 36      |\n",
      "| ('Pena High School', 91)      | 27      |\n",
      "| ('Pena High School', 92)      | 37      |\n",
      "| ('Pena High School', 93)      | 34      |\n",
      "| ('Pena High School', 94)      | 36      |\n",
      "| ('Pena High School', 95)      | 29      |\n",
      "| ('Pena High School', 96)      | 27      |\n",
      "| ('Pena High School', 97)      | 26      |\n",
      "| ('Pena High School', 98)      | 39      |\n",
      "| ('Pena High School', 99)      | 32      |\n",
      "| ('Rodriguez High School', 70) | 92      |\n",
      "| ('Rodriguez High School', 71) | 80      |\n",
      "| ('Rodriguez High School', 72) | 99      |\n",
      "| ('Rodriguez High School', 73) | 89      |\n",
      "| ('Rodriguez High School', 74) | 94      |\n",
      "| ('Rodriguez High School', 75) | 95      |\n",
      "| ('Rodriguez High School', 76) | 93      |\n",
      "| ('Rodriguez High School', 77) | 82      |\n",
      "| ('Rodriguez High School', 78) | 86      |\n",
      "| ('Rodriguez High School', 79) | 101     |\n",
      "| ('Rodriguez High School', 80) | 82      |\n",
      "| ('Rodriguez High School', 81) | 82      |\n",
      "| ('Rodriguez High School', 82) | 84      |\n",
      "| ('Rodriguez High School', 83) | 84      |\n",
      "| ('Rodriguez High School', 84) | 105     |\n",
      "| ('Rodriguez High School', 85) | 103     |\n",
      "| ('Rodriguez High School', 86) | 76      |\n",
      "| ('Rodriguez High School', 87) | 85      |\n",
      "| ('Rodriguez High School', 88) | 86      |\n",
      "| ('Rodriguez High School', 89) | 91      |\n",
      "| ('Rodriguez High School', 90) | 82      |\n",
      "| ('Rodriguez High School', 91) | 86      |\n",
      "| ('Rodriguez High School', 92) | 91      |\n",
      "| ('Rodriguez High School', 93) | 88      |\n",
      "| ('Rodriguez High School', 94) | 95      |\n",
      "| ('Rodriguez High School', 95) | 94      |\n",
      "| ('Rodriguez High School', 96) | 73      |\n",
      "| ('Rodriguez High School', 97) | 93      |\n",
      "| ('Rodriguez High School', 98) | 82      |\n",
      "| ('Rodriguez High School', 99) | 81      |\n",
      "| ('Shelton High School', 70)   | 70      |\n",
      "| ('Shelton High School', 71)   | 49      |\n",
      "| ('Shelton High School', 72)   | 61      |\n",
      "| ('Shelton High School', 73)   | 40      |\n",
      "| ('Shelton High School', 74)   | 47      |\n",
      "| ('Shelton High School', 75)   | 57      |\n",
      "| ('Shelton High School', 76)   | 58      |\n",
      "| ('Shelton High School', 77)   | 48      |\n",
      "| ('Shelton High School', 78)   | 59      |\n",
      "| ('Shelton High School', 79)   | 56      |\n",
      "| ('Shelton High School', 80)   | 64      |\n",
      "| ('Shelton High School', 81)   | 62      |\n",
      "| ('Shelton High School', 82)   | 61      |\n",
      "| ('Shelton High School', 83)   | 62      |\n",
      "| ('Shelton High School', 84)   | 62      |\n",
      "| ('Shelton High School', 85)   | 54      |\n",
      "| ('Shelton High School', 86)   | 44      |\n",
      "| ('Shelton High School', 87)   | 58      |\n",
      "| ('Shelton High School', 88)   | 47      |\n",
      "| ('Shelton High School', 89)   | 56      |\n",
      "| ('Shelton High School', 90)   | 59      |\n",
      "| ('Shelton High School', 91)   | 63      |\n",
      "| ('Shelton High School', 92)   | 58      |\n",
      "| ('Shelton High School', 93)   | 50      |\n",
      "| ('Shelton High School', 94)   | 41      |\n",
      "| ('Shelton High School', 95)   | 61      |\n",
      "| ('Shelton High School', 96)   | 49      |\n",
      "| ('Shelton High School', 97)   | 46      |\n",
      "| ('Shelton High School', 98)   | 53      |\n",
      "| ('Shelton High School', 99)   | 58      |\n",
      "| ('Thomas High School', 70)    | 50      |\n",
      "| ('Thomas High School', 71)    | 48      |\n",
      "| ('Thomas High School', 72)    | 44      |\n",
      "| ('Thomas High School', 73)    | 45      |\n",
      "| ('Thomas High School', 74)    | 59      |\n",
      "| ('Thomas High School', 75)    | 55      |\n",
      "| ('Thomas High School', 76)    | 59      |\n",
      "| ('Thomas High School', 77)    | 53      |\n",
      "| ('Thomas High School', 78)    | 51      |\n",
      "| ('Thomas High School', 79)    | 49      |\n",
      "| ('Thomas High School', 80)    | 54      |\n",
      "| ('Thomas High School', 81)    | 49      |\n",
      "| ('Thomas High School', 82)    | 52      |\n",
      "| ('Thomas High School', 83)    | 54      |\n",
      "| ('Thomas High School', 84)    | 52      |\n",
      "| ('Thomas High School', 85)    | 47      |\n",
      "| ('Thomas High School', 86)    | 52      |\n",
      "| ('Thomas High School', 87)    | 50      |\n",
      "| ('Thomas High School', 88)    | 44      |\n",
      "| ('Thomas High School', 89)    | 38      |\n",
      "| ('Thomas High School', 90)    | 52      |\n",
      "| ('Thomas High School', 91)    | 57      |\n",
      "| ('Thomas High School', 92)    | 56      |\n",
      "| ('Thomas High School', 93)    | 49      |\n",
      "| ('Thomas High School', 94)    | 48      |\n",
      "| ('Thomas High School', 95)    | 50      |\n",
      "| ('Thomas High School', 96)    | 53      |\n",
      "| ('Thomas High School', 97)    | 50      |\n",
      "| ('Thomas High School', 98)    | 52      |\n",
      "| ('Thomas High School', 99)    | 53      |\n",
      "| ('Wilson High School', 70)    | 67      |\n",
      "| ('Wilson High School', 71)    | 78      |\n",
      "| ('Wilson High School', 72)    | 87      |\n",
      "| ('Wilson High School', 73)    | 74      |\n",
      "| ('Wilson High School', 74)    | 65      |\n",
      "| ('Wilson High School', 75)    | 79      |\n",
      "| ('Wilson High School', 76)    | 61      |\n",
      "| ('Wilson High School', 77)    | 69      |\n",
      "| ('Wilson High School', 78)    | 74      |\n",
      "| ('Wilson High School', 79)    | 81      |\n",
      "| ('Wilson High School', 80)    | 68      |\n",
      "| ('Wilson High School', 81)    | 85      |\n",
      "| ('Wilson High School', 82)    | 58      |\n",
      "| ('Wilson High School', 83)    | 70      |\n",
      "| ('Wilson High School', 84)    | 71      |\n",
      "| ('Wilson High School', 85)    | 72      |\n",
      "| ('Wilson High School', 86)    | 82      |\n",
      "| ('Wilson High School', 87)    | 63      |\n",
      "| ('Wilson High School', 88)    | 68      |\n",
      "| ('Wilson High School', 89)    | 75      |\n",
      "| ('Wilson High School', 90)    | 73      |\n",
      "| ('Wilson High School', 91)    | 80      |\n",
      "| ('Wilson High School', 92)    | 74      |\n",
      "| ('Wilson High School', 93)    | 69      |\n",
      "| ('Wilson High School', 94)    | 82      |\n",
      "| ('Wilson High School', 95)    | 61      |\n",
      "| ('Wilson High School', 96)    | 71      |\n",
      "| ('Wilson High School', 97)    | 57      |\n",
      "| ('Wilson High School', 98)    | 75      |\n",
      "| ('Wilson High School', 99)    | 54      |\n",
      "| ('Wright High School', 70)    | 55      |\n",
      "| ('Wright High School', 71)    | 43      |\n",
      "| ('Wright High School', 72)    | 45      |\n",
      "| ('Wright High School', 73)    | 60      |\n",
      "| ('Wright High School', 74)    | 48      |\n",
      "| ('Wright High School', 75)    | 51      |\n",
      "| ('Wright High School', 76)    | 62      |\n",
      "| ('Wright High School', 77)    | 64      |\n",
      "| ('Wright High School', 78)    | 54      |\n",
      "| ('Wright High School', 79)    | 61      |\n",
      "| ('Wright High School', 80)    | 53      |\n",
      "| ('Wright High School', 81)    | 49      |\n",
      "| ('Wright High School', 82)    | 58      |\n",
      "| ('Wright High School', 83)    | 70      |\n",
      "| ('Wright High School', 84)    | 63      |\n",
      "| ('Wright High School', 85)    | 56      |\n",
      "| ('Wright High School', 86)    | 54      |\n",
      "| ('Wright High School', 87)    | 56      |\n",
      "| ('Wright High School', 88)    | 53      |\n",
      "| ('Wright High School', 89)    | 54      |\n",
      "| ('Wright High School', 90)    | 55      |\n",
      "| ('Wright High School', 91)    | 60      |\n",
      "| ('Wright High School', 92)    | 51      |\n",
      "| ('Wright High School', 93)    | 49      |\n",
      "| ('Wright High School', 94)    | 63      |\n",
      "| ('Wright High School', 95)    | 62      |\n",
      "| ('Wright High School', 96)    | 56      |\n",
      "| ('Wright High School', 97)    | 55      |\n",
      "| ('Wright High School', 98)    | 51      |\n",
      "| ('Wright High School', 99)    | 69      |\n"
     ]
    }
   ],
   "source": [
    "# Find the total counts of math result\n",
    "math_result_counts = school_data_complete['math_score'].value_counts().sort_index()\n",
    "print(\"\\nTotal Counts of Math Results:\")\n",
    "print(math_result_counts.to_markdown(numalign=\"left\", stralign=\"left\"))\n",
    "\n",
    "# Find the counts for math result in each school that pass 70 or higher\n",
    "passing_math_students = school_data_complete[school_data_complete['math_score'] >= 70]\n",
    "\n",
    "math_result_counts_passing = passing_math_students.groupby('school_name')['math_score'].value_counts().sort_index()\n",
    "\n",
    "print(\"\\nCounts of Math Results (Passing Students) in Each School:\")\n",
    "print(math_result_counts_passing.to_markdown(numalign=\"left\", stralign=\"left\"))\n",
    "\n",
    "# Calculate the math passing rate\n",
    "############ See code Line 41 #####################\n",
    "\n"
   ]
  },
  {
   "cell_type": "code",
   "execution_count": 55,
   "metadata": {},
   "outputs": [
    {
     "name": "stdout",
     "output_type": "stream",
     "text": [
      "\n",
      "Total Counts of Reading Results:\n",
      "| reading_score   | count   |\n",
      "|:----------------|:--------|\n",
      "| 63              | 751     |\n",
      "| 64              | 738     |\n",
      "| 65              | 758     |\n",
      "| 66              | 743     |\n",
      "| 67              | 714     |\n",
      "| 68              | 746     |\n",
      "| 69              | 1110    |\n",
      "| 70              | 1110    |\n",
      "| 71              | 1073    |\n",
      "| 72              | 1120    |\n",
      "| 73              | 1112    |\n",
      "| 74              | 1106    |\n",
      "| 75              | 1149    |\n",
      "| 76              | 1087    |\n",
      "| 77              | 1178    |\n",
      "| 78              | 1078    |\n",
      "| 79              | 1116    |\n",
      "| 80              | 1150    |\n",
      "| 81              | 1121    |\n",
      "| 82              | 1162    |\n",
      "| 83              | 1176    |\n",
      "| 84              | 1166    |\n",
      "| 85              | 1128    |\n",
      "| 86              | 1113    |\n",
      "| 87              | 1161    |\n",
      "| 88              | 1125    |\n",
      "| 89              | 1095    |\n",
      "| 90              | 1105    |\n",
      "| 91              | 1076    |\n",
      "| 92              | 1197    |\n",
      "| 93              | 1110    |\n",
      "| 94              | 1114    |\n",
      "| 95              | 1126    |\n",
      "| 96              | 1089    |\n",
      "| 97              | 1026    |\n",
      "| 98              | 1166    |\n",
      "| 99              | 1075    |\n",
      "\n",
      "Counts of Reading Results (Passing Students) in Each School:\n",
      "|                               | count   |\n",
      "|:------------------------------|:--------|\n",
      "| ('Bailey High School', 70)    | 131     |\n",
      "| ('Bailey High School', 71)    | 112     |\n",
      "| ('Bailey High School', 72)    | 139     |\n",
      "| ('Bailey High School', 73)    | 125     |\n",
      "| ('Bailey High School', 74)    | 131     |\n",
      "| ('Bailey High School', 75)    | 177     |\n",
      "| ('Bailey High School', 76)    | 147     |\n",
      "| ('Bailey High School', 77)    | 138     |\n",
      "| ('Bailey High School', 78)    | 138     |\n",
      "| ('Bailey High School', 79)    | 144     |\n",
      "| ('Bailey High School', 80)    | 150     |\n",
      "| ('Bailey High School', 81)    | 123     |\n",
      "| ('Bailey High School', 82)    | 146     |\n",
      "| ('Bailey High School', 83)    | 157     |\n",
      "| ('Bailey High School', 84)    | 143     |\n",
      "| ('Bailey High School', 85)    | 132     |\n",
      "| ('Bailey High School', 86)    | 116     |\n",
      "| ('Bailey High School', 87)    | 136     |\n",
      "| ('Bailey High School', 88)    | 142     |\n",
      "| ('Bailey High School', 89)    | 124     |\n",
      "| ('Bailey High School', 90)    | 135     |\n",
      "| ('Bailey High School', 91)    | 120     |\n",
      "| ('Bailey High School', 92)    | 143     |\n",
      "| ('Bailey High School', 93)    | 131     |\n",
      "| ('Bailey High School', 94)    | 148     |\n",
      "| ('Bailey High School', 95)    | 138     |\n",
      "| ('Bailey High School', 96)    | 130     |\n",
      "| ('Bailey High School', 97)    | 117     |\n",
      "| ('Bailey High School', 98)    | 150     |\n",
      "| ('Bailey High School', 99)    | 114     |\n",
      "| ('Cabrera High School', 70)   | 59      |\n",
      "| ('Cabrera High School', 71)   | 67      |\n",
      "| ('Cabrera High School', 72)   | 66      |\n",
      "| ('Cabrera High School', 73)   | 65      |\n",
      "| ('Cabrera High School', 74)   | 57      |\n",
      "| ('Cabrera High School', 75)   | 56      |\n",
      "| ('Cabrera High School', 76)   | 56      |\n",
      "| ('Cabrera High School', 77)   | 55      |\n",
      "| ('Cabrera High School', 78)   | 56      |\n",
      "| ('Cabrera High School', 79)   | 73      |\n",
      "| ('Cabrera High School', 80)   | 56      |\n",
      "| ('Cabrera High School', 81)   | 51      |\n",
      "| ('Cabrera High School', 82)   | 59      |\n",
      "| ('Cabrera High School', 83)   | 64      |\n",
      "| ('Cabrera High School', 84)   | 49      |\n",
      "| ('Cabrera High School', 85)   | 69      |\n",
      "| ('Cabrera High School', 86)   | 67      |\n",
      "| ('Cabrera High School', 87)   | 63      |\n",
      "| ('Cabrera High School', 88)   | 47      |\n",
      "| ('Cabrera High School', 89)   | 67      |\n",
      "| ('Cabrera High School', 90)   | 58      |\n",
      "| ('Cabrera High School', 91)   | 68      |\n",
      "| ('Cabrera High School', 92)   | 61      |\n",
      "| ('Cabrera High School', 93)   | 71      |\n",
      "| ('Cabrera High School', 94)   | 53      |\n",
      "| ('Cabrera High School', 95)   | 60      |\n",
      "| ('Cabrera High School', 96)   | 68      |\n",
      "| ('Cabrera High School', 97)   | 47      |\n",
      "| ('Cabrera High School', 98)   | 57      |\n",
      "| ('Cabrera High School', 99)   | 58      |\n",
      "| ('Figueroa High School', 70)  | 68      |\n",
      "| ('Figueroa High School', 71)  | 61      |\n",
      "| ('Figueroa High School', 72)  | 86      |\n",
      "| ('Figueroa High School', 73)  | 68      |\n",
      "| ('Figueroa High School', 74)  | 71      |\n",
      "| ('Figueroa High School', 75)  | 71      |\n",
      "| ('Figueroa High School', 76)  | 81      |\n",
      "| ('Figueroa High School', 77)  | 103     |\n",
      "| ('Figueroa High School', 78)  | 79      |\n",
      "| ('Figueroa High School', 79)  | 60      |\n",
      "| ('Figueroa High School', 80)  | 96      |\n",
      "| ('Figueroa High School', 81)  | 81      |\n",
      "| ('Figueroa High School', 82)  | 81      |\n",
      "| ('Figueroa High School', 83)  | 71      |\n",
      "| ('Figueroa High School', 84)  | 99      |\n",
      "| ('Figueroa High School', 85)  | 72      |\n",
      "| ('Figueroa High School', 86)  | 77      |\n",
      "| ('Figueroa High School', 87)  | 96      |\n",
      "| ('Figueroa High School', 88)  | 82      |\n",
      "| ('Figueroa High School', 89)  | 69      |\n",
      "| ('Figueroa High School', 90)  | 83      |\n",
      "| ('Figueroa High School', 91)  | 77      |\n",
      "| ('Figueroa High School', 92)  | 98      |\n",
      "| ('Figueroa High School', 93)  | 70      |\n",
      "| ('Figueroa High School', 94)  | 65      |\n",
      "| ('Figueroa High School', 95)  | 93      |\n",
      "| ('Figueroa High School', 96)  | 84      |\n",
      "| ('Figueroa High School', 97)  | 59      |\n",
      "| ('Figueroa High School', 98)  | 81      |\n",
      "| ('Figueroa High School', 99)  | 99      |\n",
      "| ('Ford High School', 70)      | 49      |\n",
      "| ('Ford High School', 71)      | 69      |\n",
      "| ('Ford High School', 72)      | 61      |\n",
      "| ('Ford High School', 73)      | 85      |\n",
      "| ('Ford High School', 74)      | 81      |\n",
      "| ('Ford High School', 75)      | 70      |\n",
      "| ('Ford High School', 76)      | 61      |\n",
      "| ('Ford High School', 77)      | 82      |\n",
      "| ('Ford High School', 78)      | 59      |\n",
      "| ('Ford High School', 79)      | 70      |\n",
      "| ('Ford High School', 80)      | 83      |\n",
      "| ('Ford High School', 81)      | 66      |\n",
      "| ('Ford High School', 82)      | 84      |\n",
      "| ('Ford High School', 83)      | 76      |\n",
      "| ('Ford High School', 84)      | 77      |\n",
      "| ('Ford High School', 85)      | 80      |\n",
      "| ('Ford High School', 86)      | 77      |\n",
      "| ('Ford High School', 87)      | 67      |\n",
      "| ('Ford High School', 88)      | 88      |\n",
      "| ('Ford High School', 89)      | 69      |\n",
      "| ('Ford High School', 90)      | 76      |\n",
      "| ('Ford High School', 91)      | 72      |\n",
      "| ('Ford High School', 92)      | 74      |\n",
      "| ('Ford High School', 93)      | 74      |\n",
      "| ('Ford High School', 94)      | 82      |\n",
      "| ('Ford High School', 95)      | 71      |\n",
      "| ('Ford High School', 96)      | 77      |\n",
      "| ('Ford High School', 97)      | 61      |\n",
      "| ('Ford High School', 98)      | 72      |\n",
      "| ('Ford High School', 99)      | 59      |\n",
      "| ('Griffin High School', 70)   | 55      |\n",
      "| ('Griffin High School', 71)   | 53      |\n",
      "| ('Griffin High School', 72)   | 51      |\n",
      "| ('Griffin High School', 73)   | 49      |\n",
      "| ('Griffin High School', 74)   | 56      |\n",
      "| ('Griffin High School', 75)   | 44      |\n",
      "| ('Griffin High School', 76)   | 51      |\n",
      "| ('Griffin High School', 77)   | 39      |\n",
      "| ('Griffin High School', 78)   | 42      |\n",
      "| ('Griffin High School', 79)   | 48      |\n",
      "| ('Griffin High School', 80)   | 54      |\n",
      "| ('Griffin High School', 81)   | 48      |\n",
      "| ('Griffin High School', 82)   | 38      |\n",
      "| ('Griffin High School', 83)   | 48      |\n",
      "| ('Griffin High School', 84)   | 49      |\n",
      "| ('Griffin High School', 85)   | 45      |\n",
      "| ('Griffin High School', 86)   | 44      |\n",
      "| ('Griffin High School', 87)   | 54      |\n",
      "| ('Griffin High School', 88)   | 38      |\n",
      "| ('Griffin High School', 89)   | 50      |\n",
      "| ('Griffin High School', 90)   | 41      |\n",
      "| ('Griffin High School', 91)   | 65      |\n",
      "| ('Griffin High School', 92)   | 49      |\n",
      "| ('Griffin High School', 93)   | 40      |\n",
      "| ('Griffin High School', 94)   | 51      |\n",
      "| ('Griffin High School', 95)   | 45      |\n",
      "| ('Griffin High School', 96)   | 46      |\n",
      "| ('Griffin High School', 97)   | 37      |\n",
      "| ('Griffin High School', 98)   | 44      |\n",
      "| ('Griffin High School', 99)   | 52      |\n",
      "| ('Hernandez High School', 70) | 124     |\n",
      "| ('Hernandez High School', 71) | 148     |\n",
      "| ('Hernandez High School', 72) | 133     |\n",
      "| ('Hernandez High School', 73) | 105     |\n",
      "| ('Hernandez High School', 74) | 129     |\n",
      "| ('Hernandez High School', 75) | 114     |\n",
      "| ('Hernandez High School', 76) | 125     |\n",
      "| ('Hernandez High School', 77) | 131     |\n",
      "| ('Hernandez High School', 78) | 120     |\n",
      "| ('Hernandez High School', 79) | 121     |\n",
      "| ('Hernandez High School', 80) | 122     |\n",
      "| ('Hernandez High School', 81) | 122     |\n",
      "| ('Hernandez High School', 82) | 120     |\n",
      "| ('Hernandez High School', 83) | 130     |\n",
      "| ('Hernandez High School', 84) | 129     |\n",
      "| ('Hernandez High School', 85) | 142     |\n",
      "| ('Hernandez High School', 86) | 112     |\n",
      "| ('Hernandez High School', 87) | 112     |\n",
      "| ('Hernandez High School', 88) | 112     |\n",
      "| ('Hernandez High School', 89) | 129     |\n",
      "| ('Hernandez High School', 90) | 130     |\n",
      "| ('Hernandez High School', 91) | 117     |\n",
      "| ('Hernandez High School', 92) | 142     |\n",
      "| ('Hernandez High School', 93) | 133     |\n",
      "| ('Hernandez High School', 94) | 138     |\n",
      "| ('Hernandez High School', 95) | 129     |\n",
      "| ('Hernandez High School', 96) | 114     |\n",
      "| ('Hernandez High School', 97) | 122     |\n",
      "| ('Hernandez High School', 98) | 119     |\n",
      "| ('Hernandez High School', 99) | 124     |\n",
      "| ('Holden High School', 70)    | 15      |\n",
      "| ('Holden High School', 71)    | 17      |\n",
      "| ('Holden High School', 72)    | 20      |\n",
      "| ('Holden High School', 73)    | 15      |\n",
      "| ('Holden High School', 74)    | 8       |\n",
      "| ('Holden High School', 75)    | 17      |\n",
      "| ('Holden High School', 76)    | 12      |\n",
      "| ('Holden High School', 77)    | 10      |\n",
      "| ('Holden High School', 78)    | 7       |\n",
      "| ('Holden High School', 79)    | 9       |\n",
      "| ('Holden High School', 80)    | 18      |\n",
      "| ('Holden High School', 81)    | 17      |\n",
      "| ('Holden High School', 82)    | 12      |\n",
      "| ('Holden High School', 83)    | 12      |\n",
      "| ('Holden High School', 84)    | 13      |\n",
      "| ('Holden High School', 85)    | 17      |\n",
      "| ('Holden High School', 86)    | 13      |\n",
      "| ('Holden High School', 87)    | 14      |\n",
      "| ('Holden High School', 88)    | 14      |\n",
      "| ('Holden High School', 89)    | 11      |\n",
      "| ('Holden High School', 90)    | 10      |\n",
      "| ('Holden High School', 91)    | 19      |\n",
      "| ('Holden High School', 92)    | 16      |\n",
      "| ('Holden High School', 93)    | 16      |\n",
      "| ('Holden High School', 94)    | 17      |\n",
      "| ('Holden High School', 95)    | 11      |\n",
      "| ('Holden High School', 96)    | 12      |\n",
      "| ('Holden High School', 97)    | 12      |\n",
      "| ('Holden High School', 98)    | 15      |\n",
      "| ('Holden High School', 99)    | 12      |\n",
      "| ('Huang High School', 70)     | 73      |\n",
      "| ('Huang High School', 71)     | 65      |\n",
      "| ('Huang High School', 72)     | 75      |\n",
      "| ('Huang High School', 73)     | 78      |\n",
      "| ('Huang High School', 74)     | 79      |\n",
      "| ('Huang High School', 75)     | 84      |\n",
      "| ('Huang High School', 76)     | 71      |\n",
      "| ('Huang High School', 77)     | 77      |\n",
      "| ('Huang High School', 78)     | 85      |\n",
      "| ('Huang High School', 79)     | 64      |\n",
      "| ('Huang High School', 80)     | 79      |\n",
      "| ('Huang High School', 81)     | 75      |\n",
      "| ('Huang High School', 82)     | 96      |\n",
      "| ('Huang High School', 83)     | 86      |\n",
      "| ('Huang High School', 84)     | 73      |\n",
      "| ('Huang High School', 85)     | 81      |\n",
      "| ('Huang High School', 86)     | 91      |\n",
      "| ('Huang High School', 87)     | 82      |\n",
      "| ('Huang High School', 88)     | 79      |\n",
      "| ('Huang High School', 89)     | 86      |\n",
      "| ('Huang High School', 90)     | 84      |\n",
      "| ('Huang High School', 91)     | 67      |\n",
      "| ('Huang High School', 92)     | 88      |\n",
      "| ('Huang High School', 93)     | 81      |\n",
      "| ('Huang High School', 94)     | 70      |\n",
      "| ('Huang High School', 95)     | 86      |\n",
      "| ('Huang High School', 96)     | 92      |\n",
      "| ('Huang High School', 97)     | 69      |\n",
      "| ('Huang High School', 98)     | 81      |\n",
      "| ('Huang High School', 99)     | 75      |\n",
      "| ('Johnson High School', 70)   | 140     |\n",
      "| ('Johnson High School', 71)   | 111     |\n",
      "| ('Johnson High School', 72)   | 121     |\n",
      "| ('Johnson High School', 73)   | 141     |\n",
      "| ('Johnson High School', 74)   | 121     |\n",
      "| ('Johnson High School', 75)   | 140     |\n",
      "| ('Johnson High School', 76)   | 109     |\n",
      "| ('Johnson High School', 77)   | 135     |\n",
      "| ('Johnson High School', 78)   | 131     |\n",
      "| ('Johnson High School', 79)   | 147     |\n",
      "| ('Johnson High School', 80)   | 134     |\n",
      "| ('Johnson High School', 81)   | 138     |\n",
      "| ('Johnson High School', 82)   | 148     |\n",
      "| ('Johnson High School', 83)   | 146     |\n",
      "| ('Johnson High School', 84)   | 132     |\n",
      "| ('Johnson High School', 85)   | 93      |\n",
      "| ('Johnson High School', 86)   | 117     |\n",
      "| ('Johnson High School', 87)   | 112     |\n",
      "| ('Johnson High School', 88)   | 144     |\n",
      "| ('Johnson High School', 89)   | 135     |\n",
      "| ('Johnson High School', 90)   | 124     |\n",
      "| ('Johnson High School', 91)   | 128     |\n",
      "| ('Johnson High School', 92)   | 143     |\n",
      "| ('Johnson High School', 93)   | 117     |\n",
      "| ('Johnson High School', 94)   | 118     |\n",
      "| ('Johnson High School', 95)   | 122     |\n",
      "| ('Johnson High School', 96)   | 128     |\n",
      "| ('Johnson High School', 97)   | 140     |\n",
      "| ('Johnson High School', 98)   | 138     |\n",
      "| ('Johnson High School', 99)   | 114     |\n",
      "| ('Pena High School', 70)      | 36      |\n",
      "| ('Pena High School', 71)      | 26      |\n",
      "| ('Pena High School', 72)      | 24      |\n",
      "| ('Pena High School', 73)      | 25      |\n",
      "| ('Pena High School', 74)      | 31      |\n",
      "| ('Pena High School', 75)      | 38      |\n",
      "| ('Pena High School', 76)      | 31      |\n",
      "| ('Pena High School', 77)      | 31      |\n",
      "| ('Pena High School', 78)      | 30      |\n",
      "| ('Pena High School', 79)      | 37      |\n",
      "| ('Pena High School', 80)      | 26      |\n",
      "| ('Pena High School', 81)      | 33      |\n",
      "| ('Pena High School', 82)      | 32      |\n",
      "| ('Pena High School', 83)      | 21      |\n",
      "| ('Pena High School', 84)      | 36      |\n",
      "| ('Pena High School', 85)      | 34      |\n",
      "| ('Pena High School', 86)      | 22      |\n",
      "| ('Pena High School', 87)      | 33      |\n",
      "| ('Pena High School', 88)      | 40      |\n",
      "| ('Pena High School', 89)      | 18      |\n",
      "| ('Pena High School', 90)      | 31      |\n",
      "| ('Pena High School', 91)      | 33      |\n",
      "| ('Pena High School', 92)      | 32      |\n",
      "| ('Pena High School', 93)      | 28      |\n",
      "| ('Pena High School', 94)      | 35      |\n",
      "| ('Pena High School', 95)      | 31      |\n",
      "| ('Pena High School', 96)      | 26      |\n",
      "| ('Pena High School', 97)      | 35      |\n",
      "| ('Pena High School', 98)      | 27      |\n",
      "| ('Pena High School', 99)      | 41      |\n",
      "| ('Rodriguez High School', 70) | 99      |\n",
      "| ('Rodriguez High School', 71) | 110     |\n",
      "| ('Rodriguez High School', 72) | 106     |\n",
      "| ('Rodriguez High School', 73) | 123     |\n",
      "| ('Rodriguez High School', 74) | 92      |\n",
      "| ('Rodriguez High School', 75) | 105     |\n",
      "| ('Rodriguez High School', 76) | 118     |\n",
      "| ('Rodriguez High School', 77) | 112     |\n",
      "| ('Rodriguez High School', 78) | 112     |\n",
      "| ('Rodriguez High School', 79) | 91      |\n",
      "| ('Rodriguez High School', 80) | 125     |\n",
      "| ('Rodriguez High School', 81) | 110     |\n",
      "| ('Rodriguez High School', 82) | 107     |\n",
      "| ('Rodriguez High School', 83) | 107     |\n",
      "| ('Rodriguez High School', 84) | 111     |\n",
      "| ('Rodriguez High School', 85) | 112     |\n",
      "| ('Rodriguez High School', 86) | 110     |\n",
      "| ('Rodriguez High School', 87) | 97      |\n",
      "| ('Rodriguez High School', 88) | 126     |\n",
      "| ('Rodriguez High School', 89) | 107     |\n",
      "| ('Rodriguez High School', 90) | 104     |\n",
      "| ('Rodriguez High School', 91) | 88      |\n",
      "| ('Rodriguez High School', 92) | 108     |\n",
      "| ('Rodriguez High School', 93) | 103     |\n",
      "| ('Rodriguez High School', 94) | 103     |\n",
      "| ('Rodriguez High School', 95) | 106     |\n",
      "| ('Rodriguez High School', 96) | 96      |\n",
      "| ('Rodriguez High School', 97) | 107     |\n",
      "| ('Rodriguez High School', 98) | 114     |\n",
      "| ('Rodriguez High School', 99) | 99      |\n",
      "| ('Shelton High School', 70)   | 57      |\n",
      "| ('Shelton High School', 71)   | 52      |\n",
      "| ('Shelton High School', 72)   | 65      |\n",
      "| ('Shelton High School', 73)   | 57      |\n",
      "| ('Shelton High School', 74)   | 60      |\n",
      "| ('Shelton High School', 75)   | 48      |\n",
      "| ('Shelton High School', 76)   | 60      |\n",
      "| ('Shelton High School', 77)   | 62      |\n",
      "| ('Shelton High School', 78)   | 51      |\n",
      "| ('Shelton High School', 79)   | 52      |\n",
      "| ('Shelton High School', 80)   | 59      |\n",
      "| ('Shelton High School', 81)   | 65      |\n",
      "| ('Shelton High School', 82)   | 64      |\n",
      "| ('Shelton High School', 83)   | 57      |\n",
      "| ('Shelton High School', 84)   | 55      |\n",
      "| ('Shelton High School', 85)   | 47      |\n",
      "| ('Shelton High School', 86)   | 56      |\n",
      "| ('Shelton High School', 87)   | 56      |\n",
      "| ('Shelton High School', 88)   | 54      |\n",
      "| ('Shelton High School', 89)   | 55      |\n",
      "| ('Shelton High School', 90)   | 64      |\n",
      "| ('Shelton High School', 91)   | 47      |\n",
      "| ('Shelton High School', 92)   | 60      |\n",
      "| ('Shelton High School', 93)   | 54      |\n",
      "| ('Shelton High School', 94)   | 59      |\n",
      "| ('Shelton High School', 95)   | 54      |\n",
      "| ('Shelton High School', 96)   | 55      |\n",
      "| ('Shelton High School', 97)   | 51      |\n",
      "| ('Shelton High School', 98)   | 63      |\n",
      "| ('Shelton High School', 99)   | 49      |\n",
      "| ('Thomas High School', 70)    | 72      |\n",
      "| ('Thomas High School', 71)    | 47      |\n",
      "| ('Thomas High School', 72)    | 56      |\n",
      "| ('Thomas High School', 73)    | 55      |\n",
      "| ('Thomas High School', 74)    | 69      |\n",
      "| ('Thomas High School', 75)    | 53      |\n",
      "| ('Thomas High School', 76)    | 50      |\n",
      "| ('Thomas High School', 77)    | 53      |\n",
      "| ('Thomas High School', 78)    | 42      |\n",
      "| ('Thomas High School', 79)    | 47      |\n",
      "| ('Thomas High School', 80)    | 42      |\n",
      "| ('Thomas High School', 81)    | 60      |\n",
      "| ('Thomas High School', 82)    | 47      |\n",
      "| ('Thomas High School', 83)    | 46      |\n",
      "| ('Thomas High School', 84)    | 49      |\n",
      "| ('Thomas High School', 85)    | 62      |\n",
      "| ('Thomas High School', 86)    | 68      |\n",
      "| ('Thomas High School', 87)    | 59      |\n",
      "| ('Thomas High School', 88)    | 57      |\n",
      "| ('Thomas High School', 89)    | 46      |\n",
      "| ('Thomas High School', 90)    | 48      |\n",
      "| ('Thomas High School', 91)    | 40      |\n",
      "| ('Thomas High School', 92)    | 56      |\n",
      "| ('Thomas High School', 93)    | 62      |\n",
      "| ('Thomas High School', 94)    | 50      |\n",
      "| ('Thomas High School', 95)    | 54      |\n",
      "| ('Thomas High School', 96)    | 52      |\n",
      "| ('Thomas High School', 97)    | 41      |\n",
      "| ('Thomas High School', 98)    | 56      |\n",
      "| ('Thomas High School', 99)    | 52      |\n",
      "| ('Wilson High School', 70)    | 75      |\n",
      "| ('Wilson High School', 71)    | 84      |\n",
      "| ('Wilson High School', 72)    | 58      |\n",
      "| ('Wilson High School', 73)    | 66      |\n",
      "| ('Wilson High School', 74)    | 72      |\n",
      "| ('Wilson High School', 75)    | 65      |\n",
      "| ('Wilson High School', 76)    | 57      |\n",
      "| ('Wilson High School', 77)    | 91      |\n",
      "| ('Wilson High School', 78)    | 66      |\n",
      "| ('Wilson High School', 79)    | 91      |\n",
      "| ('Wilson High School', 80)    | 56      |\n",
      "| ('Wilson High School', 81)    | 75      |\n",
      "| ('Wilson High School', 82)    | 78      |\n",
      "| ('Wilson High School', 83)    | 85      |\n",
      "| ('Wilson High School', 84)    | 84      |\n",
      "| ('Wilson High School', 85)    | 80      |\n",
      "| ('Wilson High School', 86)    | 81      |\n",
      "| ('Wilson High School', 87)    | 98      |\n",
      "| ('Wilson High School', 88)    | 51      |\n",
      "| ('Wilson High School', 89)    | 78      |\n",
      "| ('Wilson High School', 90)    | 66      |\n",
      "| ('Wilson High School', 91)    | 77      |\n",
      "| ('Wilson High School', 92)    | 71      |\n",
      "| ('Wilson High School', 93)    | 75      |\n",
      "| ('Wilson High School', 94)    | 66      |\n",
      "| ('Wilson High School', 95)    | 67      |\n",
      "| ('Wilson High School', 96)    | 60      |\n",
      "| ('Wilson High School', 97)    | 74      |\n",
      "| ('Wilson High School', 98)    | 78      |\n",
      "| ('Wilson High School', 99)    | 79      |\n",
      "| ('Wright High School', 70)    | 57      |\n",
      "| ('Wright High School', 71)    | 51      |\n",
      "| ('Wright High School', 72)    | 59      |\n",
      "| ('Wright High School', 73)    | 55      |\n",
      "| ('Wright High School', 74)    | 49      |\n",
      "| ('Wright High School', 75)    | 67      |\n",
      "| ('Wright High School', 76)    | 58      |\n",
      "| ('Wright High School', 77)    | 59      |\n",
      "| ('Wright High School', 78)    | 60      |\n",
      "| ('Wright High School', 79)    | 62      |\n",
      "| ('Wright High School', 80)    | 50      |\n",
      "| ('Wright High School', 81)    | 57      |\n",
      "| ('Wright High School', 82)    | 50      |\n",
      "| ('Wright High School', 83)    | 70      |\n",
      "| ('Wright High School', 84)    | 67      |\n",
      "| ('Wright High School', 85)    | 62      |\n",
      "| ('Wright High School', 86)    | 62      |\n",
      "| ('Wright High School', 87)    | 82      |\n",
      "| ('Wright High School', 88)    | 51      |\n",
      "| ('Wright High School', 89)    | 51      |\n",
      "| ('Wright High School', 90)    | 51      |\n",
      "| ('Wright High School', 91)    | 58      |\n",
      "| ('Wright High School', 92)    | 56      |\n",
      "| ('Wright High School', 93)    | 55      |\n",
      "| ('Wright High School', 94)    | 59      |\n",
      "| ('Wright High School', 95)    | 59      |\n",
      "| ('Wright High School', 96)    | 49      |\n",
      "| ('Wright High School', 97)    | 54      |\n",
      "| ('Wright High School', 98)    | 71      |\n",
      "| ('Wright High School', 99)    | 48      |\n"
     ]
    }
   ],
   "source": [
    "# Find the total counts of read result\n",
    "# Find the counts for read result in each school that pass 70 or higher\n",
    "reading_result_counts = school_data_complete['reading_score'].value_counts().sort_index()\n",
    "\n",
    "print(\"\\nTotal Counts of Reading Results:\")\n",
    "print(reading_result_counts.to_markdown(numalign=\"left\", stralign=\"left\"))\n",
    "\n",
    "# Filter to include only students with reading scores of 70 or higher\n",
    "passing_reading_students = school_data_complete[school_data_complete['reading_score'] >= 70]\n",
    "\n",
    "# Calculate the counts of each reading result for students passing reading in each school\n",
    "reading_result_counts_passing = passing_reading_students.groupby('school_name')['reading_score'].value_counts().sort_index()\n",
    "\n",
    "print(\"\\nCounts of Reading Results (Passing Students) in Each School:\")\n",
    "print(reading_result_counts_passing.to_markdown(numalign=\"left\", stralign=\"left\"))\n",
    "\n",
    "# Calculate the read passing rate\n",
    "############ See code Line 41 #####################\n"
   ]
  },
  {
   "cell_type": "code",
   "execution_count": 57,
   "metadata": {},
   "outputs": [
    {
     "name": "stdout",
     "output_type": "stream",
     "text": [
      "\n",
      "Overall Passing Rate for Each School:\n",
      "| school_name           | avg_math_passing_rate   | avg_reading_passing_rate   | overall_passing_rate   |\n",
      "|:----------------------|:------------------------|:---------------------------|:-----------------------|\n",
      "| Bailey High School    | 0.666801                | 0.819333                   | 0.743067               |\n",
      "| Cabrera High School   | 0.941335                | 0.970398                   | 0.955867               |\n",
      "| Figueroa High School  | 0.659885                | 0.807392                   | 0.733639               |\n",
      "| Ford High School      | 0.683096                | 0.79299                    | 0.738043               |\n",
      "| Griffin High School   | 0.933924                | 0.97139                    | 0.952657               |\n",
      "| Hernandez High School | 0.66753                 | 0.80863                    | 0.73808                |\n",
      "| Holden High School    | 0.925059                | 0.962529                   | 0.943794               |\n",
      "| Huang High School     | 0.656839                | 0.813164                   | 0.735002               |\n",
      "| Johnson High School   | 0.660576                | 0.812224                   | 0.7364                 |\n",
      "| Pena High School      | 0.945946                | 0.959459                   | 0.952703               |\n",
      "| Rodriguez High School | 0.663666                | 0.802201                   | 0.732933               |\n",
      "| Shelton High School   | 0.938671                | 0.958546                   | 0.948609               |\n",
      "| Thomas High School    | 0.932722                | 0.973089                   | 0.952905               |\n",
      "| Wilson High School    | 0.938677                | 0.965396                   | 0.952037               |\n",
      "| Wright High School    | 0.933333                | 0.966111                   | 0.949722               |\n"
     ]
    }
   ],
   "source": [
    "# Calculate the overall passing rate (average of the math and reading passing rate)\n",
    "school_data_complete['passing_math'] = (school_data_complete['math_score'] >= 70).astype(int)\n",
    "school_data_complete['passing_reading'] = (school_data_complete['reading_score'] >= 70).astype(int)\n",
    "\n",
    "overall_passing_rate = school_data_complete.groupby('school_name').agg(\n",
    "    avg_math_passing_rate=('passing_math', 'mean'),\n",
    "    avg_reading_passing_rate=('passing_reading', 'mean')\n",
    ")\n",
    "\n",
    "overall_passing_rate['overall_passing_rate'] = (overall_passing_rate['avg_math_passing_rate'] + overall_passing_rate['avg_reading_passing_rate']) / 2\n",
    "\n",
    "print(\"\\nOverall Passing Rate for Each School:\")\n",
    "print(overall_passing_rate.to_markdown(numalign=\"left\", stralign=\"left\"))\n",
    "\n"
   ]
  },
  {
   "cell_type": "code",
   "execution_count": null,
   "metadata": {},
   "outputs": [],
   "source": []
  },
  {
   "cell_type": "code",
   "execution_count": null,
   "metadata": {},
   "outputs": [],
   "source": []
  },
  {
   "cell_type": "code",
   "execution_count": null,
   "metadata": {},
   "outputs": [],
   "source": []
  },
  {
   "cell_type": "markdown",
   "metadata": {},
   "source": [
    "### Bottom Performing Schools (By Passing Rate)"
   ]
  },
  {
   "cell_type": "markdown",
   "metadata": {},
   "source": [
    "* Sort and display the five worst-performing schools"
   ]
  },
  {
   "cell_type": "code",
   "execution_count": 59,
   "metadata": {},
   "outputs": [
    {
     "name": "stdout",
     "output_type": "stream",
     "text": [
      "\n",
      "Bottom Performing Schools (By Passing Rate):\n",
      "| school_name           | avg_math_passing_rate   | avg_reading_passing_rate   | overall_passing_rate   |\n",
      "|:----------------------|:------------------------|:---------------------------|:-----------------------|\n",
      "| Rodriguez High School | 0.663666                | 0.802201                   | 0.732933               |\n",
      "| Figueroa High School  | 0.659885                | 0.807392                   | 0.733639               |\n",
      "| Huang High School     | 0.656839                | 0.813164                   | 0.735002               |\n",
      "| Johnson High School   | 0.660576                | 0.812224                   | 0.7364                 |\n",
      "| Ford High School      | 0.683096                | 0.79299                    | 0.738043               |\n"
     ]
    }
   ],
   "source": [
    "#  Sort and display the worst five schools in overall passing rate\n",
    "\n",
    "bottom_performing_schools = overall_passing_rate.sort_values('overall_passing_rate', ascending=True).head(5)\n",
    "\n",
    "print(\"\\nBottom Performing Schools (By Passing Rate):\")\n",
    "print(bottom_performing_schools.to_markdown(numalign=\"left\", stralign=\"left\"))"
   ]
  },
  {
   "cell_type": "markdown",
   "metadata": {
    "collapsed": true,
    "jupyter": {
     "outputs_hidden": true
    }
   },
   "source": [
    "## Math Scores by Grade"
   ]
  },
  {
   "cell_type": "markdown",
   "metadata": {},
   "source": [
    "* Create a table that lists the average Reading Score for students of each grade level (9th, 10th, 11th, 12th) at each school.\n",
    "\n",
    "  * Create a pandas series for each grade. Hint: use a conditional statement.\n",
    "  \n",
    "  * Group each series by school\n",
    "  \n",
    "  * Combine the series into a dataframe\n",
    "  \n",
    "  * Optional: give the displayed data cleaner formatting"
   ]
  },
  {
   "cell_type": "code",
   "execution_count": 61,
   "metadata": {},
   "outputs": [
    {
     "name": "stdout",
     "output_type": "stream",
     "text": [
      "\n",
      "Average Math Score by Grade:\n",
      "| school_name           | 9th     | 10th    | 11th    | 12th    |\n",
      "|:----------------------|:--------|:--------|:--------|:--------|\n",
      "| Bailey High School    | 77.0837 | 76.9968 | 77.5156 | 76.4922 |\n",
      "| Cabrera High School   | 83.0947 | 83.1545 | 82.7656 | 83.2775 |\n",
      "| Figueroa High School  | 76.403  | 76.54   | 76.8843 | 77.1514 |\n",
      "| Ford High School      | 77.3613 | 77.6723 | 76.9181 | 76.18   |\n",
      "| Griffin High School   | 82.044  | 84.2291 | 83.8421 | 83.3562 |\n",
      "| Hernandez High School | 77.4385 | 77.3374 | 77.136  | 77.1866 |\n",
      "| Holden High School    | 83.7874 | 83.4298 | 85      | 82.8554 |\n",
      "| Huang High School     | 77.0273 | 75.9087 | 76.4466 | 77.2256 |\n",
      "| Johnson High School   | 77.1879 | 76.6911 | 77.4917 | 76.8632 |\n",
      "| Pena High School      | 83.6255 | 83.372  | 84.3281 | 84.1215 |\n",
      "| Rodriguez High School | 76.86   | 76.6125 | 76.3956 | 77.6907 |\n",
      "| Shelton High School   | 83.4208 | 82.9174 | 83.3835 | 83.779  |\n",
      "| Thomas High School    | 83.59   | 83.0879 | 83.4988 | 83.497  |\n",
      "| Wilson High School    | 83.0856 | 83.7244 | 83.1953 | 83.0358 |\n",
      "| Wright High School    | 83.2647 | 84.0103 | 83.8368 | 83.645  |\n"
     ]
    }
   ],
   "source": [
    "# Create table that lists the average math score for each school of each grade level.\n",
    "\n",
    "ninth_grade_math_scores = school_data_complete[school_data_complete['grade'] == '9th'].groupby('school_name')['math_score'].mean()\n",
    "tenth_grade_math_scores = school_data_complete[school_data_complete['grade'] == '10th'].groupby('school_name')['math_score'].mean()\n",
    "eleventh_grade_math_scores = school_data_complete[school_data_complete['grade'] == '11th'].groupby('school_name')['math_score'].mean()\n",
    "twelfth_grade_math_scores = school_data_complete[school_data_complete['grade'] == '12th'].groupby('school_name')['math_score'].mean()\n",
    "\n",
    "math_scores_by_grade = pd.DataFrame({\n",
    "    '9th': ninth_grade_math_scores,\n",
    "    '10th': tenth_grade_math_scores,\n",
    "    '11th': eleventh_grade_math_scores,\n",
    "    '12th': twelfth_grade_math_scores\n",
    "})\n",
    "\n",
    "\n",
    "print(\"\\nAverage Math Score by Grade:\")\n",
    "print(math_scores_by_grade.to_markdown(numalign=\"left\", stralign=\"left\"))\n",
    "\n",
    "\n"
   ]
  },
  {
   "cell_type": "code",
   "execution_count": null,
   "metadata": {},
   "outputs": [],
   "source": [
    "# Calculate the average math score for 9th grade in each school\n",
    "######### Check Line 61 #########\n",
    "\n"
   ]
  },
  {
   "cell_type": "code",
   "execution_count": null,
   "metadata": {},
   "outputs": [],
   "source": [
    "# Calculate the average math score for 10th grade in each school\n",
    "\n",
    "######### Check Line 61 #########\n"
   ]
  },
  {
   "cell_type": "code",
   "execution_count": null,
   "metadata": {},
   "outputs": [],
   "source": [
    "# Calculate the average math score for 11th grade in each school\n",
    "\n",
    "######### Check Line 61 #########\n"
   ]
  },
  {
   "cell_type": "code",
   "execution_count": null,
   "metadata": {},
   "outputs": [],
   "source": [
    "# Calculate the average math score for 12th grade in each school\n",
    "\n",
    "######### Check Line 61 #########\n"
   ]
  },
  {
   "cell_type": "markdown",
   "metadata": {},
   "source": [
    "### Reading Score by Grade "
   ]
  },
  {
   "cell_type": "markdown",
   "metadata": {},
   "source": [
    "* Perform the same operations as above for reading scores"
   ]
  },
  {
   "cell_type": "code",
   "execution_count": 63,
   "metadata": {},
   "outputs": [
    {
     "name": "stdout",
     "output_type": "stream",
     "text": [
      "\n",
      "Average Reading Score by Grade:\n",
      "| school_name           | 9th     | 10th    | 11th    | 12th    |\n",
      "|:----------------------|:--------|:--------|:--------|:--------|\n",
      "| Bailey High School    | 81.3032 | 80.9072 | 80.9456 | 80.9125 |\n",
      "| Cabrera High School   | 83.6761 | 84.2532 | 83.7884 | 84.288  |\n",
      "| Figueroa High School  | 81.1986 | 81.4089 | 80.6403 | 81.3849 |\n",
      "| Ford High School      | 80.6327 | 81.2627 | 80.4036 | 80.6623 |\n",
      "| Griffin High School   | 83.3692 | 83.7069 | 84.2881 | 84.0137 |\n",
      "| Hernandez High School | 80.8669 | 80.6601 | 81.3961 | 80.8571 |\n",
      "| Holden High School    | 83.6772 | 83.3246 | 83.8155 | 84.6988 |\n",
      "| Huang High School     | 81.2903 | 81.5124 | 81.4175 | 80.306  |\n",
      "| Johnson High School   | 81.2607 | 80.7734 | 80.616  | 81.2276 |\n",
      "| Pena High School      | 83.8073 | 83.612  | 84.3359 | 84.5912 |\n",
      "| Rodriguez High School | 80.9931 | 80.6298 | 80.8648 | 80.3764 |\n",
      "| Shelton High School   | 84.1226 | 83.442  | 84.3738 | 82.7817 |\n",
      "| Thomas High School    | 83.7289 | 84.2542 | 83.5855 | 83.8314 |\n",
      "| Wilson High School    | 83.9398 | 84.0215 | 83.7646 | 84.3177 |\n",
      "| Wright High School    | 83.8333 | 83.8128 | 84.1563 | 84.0732 |\n"
     ]
    }
   ],
   "source": [
    "# Create table that lists the average reading score for each school of each grade level.\n",
    "ninth_grade_reading_scores = school_data_complete[school_data_complete['grade'] == '9th'].groupby('school_name')['reading_score'].mean()\n",
    "tenth_grade_reading_scores = school_data_complete[school_data_complete['grade'] == '10th'].groupby('school_name')['reading_score'].mean()\n",
    "eleventh_grade_reading_scores = school_data_complete[school_data_complete['grade'] == '11th'].groupby('school_name')['reading_score'].mean()\n",
    "twelfth_grade_reading_scores = school_data_complete[school_data_complete['grade'] == '12th'].groupby('school_name')['reading_score'].mean()\n",
    "\n",
    "\n",
    "reading_scores_by_grade = pd.DataFrame({\n",
    "    '9th': ninth_grade_reading_scores,\n",
    "    '10th': tenth_grade_reading_scores,\n",
    "    '11th': eleventh_grade_reading_scores,\n",
    "    '12th': twelfth_grade_reading_scores\n",
    "})\n",
    "\n",
    "\n",
    "print(\"\\nAverage Reading Score by Grade:\")\n",
    "print(reading_scores_by_grade.to_markdown(numalign=\"left\", stralign=\"left\"))\n"
   ]
  },
  {
   "cell_type": "code",
   "execution_count": null,
   "metadata": {},
   "outputs": [],
   "source": [
    "# Calculate the average reading score for 9th grade in each school\n",
    "\n",
    "######### Check Line 63 #########\n"
   ]
  },
  {
   "cell_type": "code",
   "execution_count": null,
   "metadata": {},
   "outputs": [],
   "source": [
    "# Calculate the average reading score for 10th grade in each school\n",
    "\n",
    "######### Check Line 63 #########\n"
   ]
  },
  {
   "cell_type": "code",
   "execution_count": null,
   "metadata": {},
   "outputs": [],
   "source": [
    "# Calculate the average reading score for 11th grade in each school\n",
    "\n",
    "######### Check Line 63 #########\n"
   ]
  },
  {
   "cell_type": "code",
   "execution_count": null,
   "metadata": {},
   "outputs": [],
   "source": [
    "# Calculate the average reading score for 12th grade in each school\n",
    "\n",
    "######### Check Line 63 #########\n"
   ]
  },
  {
   "cell_type": "markdown",
   "metadata": {},
   "source": [
    "## Scores by School Spending"
   ]
  },
  {
   "cell_type": "markdown",
   "metadata": {},
   "source": [
    "* Create a table that breaks down school performances based on average Spending Ranges (Per Student). Use 4 reasonable bins to group school spending. Include in the table each of the following:\n",
    "  * Average Math Score\n",
    "  * Average Reading Score\n",
    "  * % Passing Math\n",
    "  * % Passing Reading\n",
    "  * Overall Passing Rate (Average of the above two)"
   ]
  },
  {
   "cell_type": "code",
   "execution_count": 69,
   "metadata": {},
   "outputs": [],
   "source": [
    "# Sample bins. Feel free to create your own bins.\n",
    "spending_bins = [0, 585, 615, 645, 675]\n",
    "group_names = [\"<$585\", \"$585-615\", \"$615-645\", \"$645-675\"]"
   ]
  },
  {
   "cell_type": "code",
   "execution_count": 65,
   "metadata": {},
   "outputs": [],
   "source": [
    "# Create a new column to show budget per student in each row\n",
    "school_data_complete['budget_per_student'] = school_data_complete['budget'] / school_data_complete['size']\n"
   ]
  },
  {
   "cell_type": "code",
   "execution_count": 71,
   "metadata": {},
   "outputs": [],
   "source": [
    "# Create a new column to define the spending ranges per student\n",
    "school_data_complete['spending_range_per_student'] = pd.cut(school_data_complete['budget_per_student'], spending_bins, labels=group_names)\n"
   ]
  },
  {
   "cell_type": "code",
   "execution_count": 77,
   "metadata": {},
   "outputs": [
    {
     "name": "stdout",
     "output_type": "stream",
     "text": [
      "\n",
      "Average Math Score by Spending Range:\n",
      "| spending_range_per_student   | math_score   |\n",
      "|:-----------------------------|:-------------|\n",
      "| <$585                        | 83.3631      |\n",
      "| $585-615                     | 83.5292      |\n",
      "| $615-645                     | 78.0616      |\n",
      "| $645-675                     | 77.0493      |\n"
     ]
    },
    {
     "name": "stderr",
     "output_type": "stream",
     "text": [
      "C:\\Users\\raoul\\AppData\\Local\\Temp\\ipykernel_30656\\2770379729.py:2: FutureWarning: The default of observed=False is deprecated and will be changed to True in a future version of pandas. Pass observed=False to retain current behavior or observed=True to adopt the future default and silence this warning.\n",
      "  avg_math_score_by_spending = school_data_complete.groupby('spending_range_per_student')['math_score'].mean()\n"
     ]
    }
   ],
   "source": [
    "# Calculate the average math score within each spending range\n",
    "avg_math_score_by_spending = school_data_complete.groupby('spending_range_per_student')['math_score'].mean()\n",
    "\n",
    "print(\"\\nAverage Math Score by Spending Range:\")\n",
    "print(avg_math_score_by_spending.to_markdown(numalign=\"left\", stralign=\"left\"))\n",
    "\n"
   ]
  },
  {
   "cell_type": "code",
   "execution_count": 79,
   "metadata": {},
   "outputs": [
    {
     "name": "stdout",
     "output_type": "stream",
     "text": [
      "\n",
      "Percentage Passing Math by Spending Range:\n",
      "| spending_range_per_student   | student_name   |\n",
      "|:-----------------------------|:---------------|\n",
      "| <$585                        | 93.7029        |\n",
      "| $585-615                     | 94.1241        |\n",
      "| $615-645                     | 71.4004        |\n",
      "| $645-675                     | 66.2308        |\n"
     ]
    },
    {
     "name": "stderr",
     "output_type": "stream",
     "text": [
      "C:\\Users\\raoul\\AppData\\Local\\Temp\\ipykernel_30656\\2087746953.py:2: FutureWarning: The default of observed=False is deprecated and will be changed to True in a future version of pandas. Pass observed=False to retain current behavior or observed=True to adopt the future default and silence this warning.\n",
      "  passing_math_percent_by_spending = school_data_complete[school_data_complete['math_score'] >= 70].groupby('spending_range_per_student')['student_name'].count() / school_data_complete.groupby('spending_range_per_student')['student_name'].count() * 100\n"
     ]
    }
   ],
   "source": [
    "# Calculate the percentage passing rate for math in each spending range\n",
    "passing_math_percent_by_spending = school_data_complete[school_data_complete['math_score'] >= 70].groupby('spending_range_per_student')['student_name'].count() / school_data_complete.groupby('spending_range_per_student')['student_name'].count() * 100\n",
    "\n",
    "print(\"\\nPercentage Passing Math by Spending Range:\")\n",
    "print(passing_math_percent_by_spending.to_markdown(numalign=\"left\", stralign=\"left\"))\n"
   ]
  },
  {
   "cell_type": "code",
   "execution_count": 81,
   "metadata": {},
   "outputs": [
    {
     "name": "stdout",
     "output_type": "stream",
     "text": [
      "\n",
      "Percentage Passing Reading by Spending Range:\n",
      "| spending_range_per_student   | student_name   |\n",
      "|:-----------------------------|:---------------|\n",
      "| <$585                        | 96.6866        |\n",
      "| $585-615                     | 95.8869        |\n",
      "| $615-645                     | 83.6148        |\n",
      "| $645-675                     | 81.1094        |\n"
     ]
    },
    {
     "name": "stderr",
     "output_type": "stream",
     "text": [
      "C:\\Users\\raoul\\AppData\\Local\\Temp\\ipykernel_30656\\4274330541.py:2: FutureWarning: The default of observed=False is deprecated and will be changed to True in a future version of pandas. Pass observed=False to retain current behavior or observed=True to adopt the future default and silence this warning.\n",
      "  passing_reading_percent_by_spending = school_data_complete[school_data_complete['reading_score'] >= 70].groupby('spending_range_per_student')['student_name'].count() / school_data_complete.groupby('spending_range_per_student')['student_name'].count() * 100\n"
     ]
    }
   ],
   "source": [
    "# Calculate the percentage passing rate for reading in each spending range\n",
    "passing_reading_percent_by_spending = school_data_complete[school_data_complete['reading_score'] >= 70].groupby('spending_range_per_student')['student_name'].count() / school_data_complete.groupby('spending_range_per_student')['student_name'].count() * 100\n",
    "\n",
    "print(\"\\nPercentage Passing Reading by Spending Range:\")\n",
    "print(passing_reading_percent_by_spending.to_markdown(numalign=\"left\", stralign=\"left\"))\n"
   ]
  },
  {
   "cell_type": "code",
   "execution_count": 83,
   "metadata": {},
   "outputs": [
    {
     "name": "stdout",
     "output_type": "stream",
     "text": [
      "\n",
      "Overall Passing Rate by Spending Range:\n",
      "| spending_range_per_student   | student_name   |\n",
      "|:-----------------------------|:---------------|\n",
      "| <$585                        | 95.1947        |\n",
      "| $585-615                     | 95.0055        |\n",
      "| $615-645                     | 77.5076        |\n",
      "| $645-675                     | 73.6701        |\n"
     ]
    }
   ],
   "source": [
    "# Calculate the percentage overall passing rate in each spending range\n",
    "overall_passing_percent_by_spending = (passing_math_percent_by_spending + passing_reading_percent_by_spending) / 2\n",
    "\n",
    "print(\"\\nOverall Passing Rate by Spending Range:\")\n",
    "print(overall_passing_percent_by_spending.to_markdown(numalign=\"left\", stralign=\"left\"))\n"
   ]
  },
  {
   "cell_type": "markdown",
   "metadata": {},
   "source": [
    "### Scores by School Size"
   ]
  },
  {
   "cell_type": "markdown",
   "metadata": {},
   "source": [
    "* Perform the same operations as above, based on school size."
   ]
  },
  {
   "cell_type": "code",
   "execution_count": 85,
   "metadata": {},
   "outputs": [],
   "source": [
    "# Sample bins. Feel free to create your own bins.\n",
    "size_bins = [0, 1000, 2000, 5000]\n",
    "group_names = [\"Small (<1000)\", \"Medium (1000-2000)\", \"Large (2000-5000)\"]"
   ]
  },
  {
   "cell_type": "code",
   "execution_count": 87,
   "metadata": {
    "scrolled": true
   },
   "outputs": [],
   "source": [
    "# Create a new column for the bin groups\n",
    "school_data_complete['school_size_range'] = pd.cut(school_data_complete['size'], size_bins, labels=group_names)"
   ]
  },
  {
   "cell_type": "markdown",
   "metadata": {},
   "source": [
    "Look for the total count of test scores that pass 70% or higher\n",
    "\n",
    "\n"
   ]
  },
  {
   "cell_type": "code",
   "execution_count": 89,
   "metadata": {},
   "outputs": [
    {
     "name": "stdout",
     "output_type": "stream",
     "text": [
      "\n",
      "Total Count of Passing Math Scores by School Size:\n",
      "| school_size_range   | student_name   |\n",
      "|:--------------------|:---------------|\n",
      "| Small (<1000)       | 1305           |\n",
      "| Medium (1000-2000)  | 7978           |\n",
      "| Large (2000-5000)   | 20087          |\n"
     ]
    },
    {
     "name": "stderr",
     "output_type": "stream",
     "text": [
      "C:\\Users\\raoul\\AppData\\Local\\Temp\\ipykernel_30656\\3970704828.py:2: FutureWarning: The default of observed=False is deprecated and will be changed to True in a future version of pandas. Pass observed=False to retain current behavior or observed=True to adopt the future default and silence this warning.\n",
      "  passing_math_counts_by_size = school_data_complete[school_data_complete['math_score'] >= 70].groupby('school_size_range')['student_name'].count()\n"
     ]
    }
   ],
   "source": [
    "# math_pass_size\n",
    "passing_math_counts_by_size = school_data_complete[school_data_complete['math_score'] >= 70].groupby('school_size_range')['student_name'].count()\n",
    "\n",
    "print(\"\\nTotal Count of Passing Math Scores by School Size:\")\n",
    "print(passing_math_counts_by_size.to_markdown(numalign=\"left\", stralign=\"left\"))"
   ]
  },
  {
   "cell_type": "code",
   "execution_count": 91,
   "metadata": {},
   "outputs": [
    {
     "name": "stdout",
     "output_type": "stream",
     "text": [
      "\n",
      "Total Count of Passing Reading Scores by School Size:\n",
      "| school_size_range   | student_name   |\n",
      "|:--------------------|:---------------|\n",
      "| Small (<1000)       | 1334           |\n",
      "| Medium (1000-2000)  | 8247           |\n",
      "| Large (2000-5000)   | 24029          |\n"
     ]
    },
    {
     "name": "stderr",
     "output_type": "stream",
     "text": [
      "C:\\Users\\raoul\\AppData\\Local\\Temp\\ipykernel_30656\\1172805759.py:2: FutureWarning: The default of observed=False is deprecated and will be changed to True in a future version of pandas. Pass observed=False to retain current behavior or observed=True to adopt the future default and silence this warning.\n",
      "  passing_reading_counts_by_size = school_data_complete[school_data_complete['reading_score'] >= 70].groupby('school_size_range')['student_name'].count()\n"
     ]
    }
   ],
   "source": [
    "# read_pass_size\n",
    "passing_reading_counts_by_size = school_data_complete[school_data_complete['reading_score'] >= 70].groupby('school_size_range')['student_name'].count()\n",
    "\n",
    "print(\"\\nTotal Count of Passing Reading Scores by School Size:\")\n",
    "print(passing_reading_counts_by_size.to_markdown(numalign=\"left\", stralign=\"left\"))\n"
   ]
  },
  {
   "cell_type": "code",
   "execution_count": 93,
   "metadata": {},
   "outputs": [
    {
     "name": "stdout",
     "output_type": "stream",
     "text": [
      "\n",
      "Overall Passing Rate by School Size:\n",
      "| school_size_range   | student_name   |\n",
      "|:--------------------|:---------------|\n",
      "| Small (<1000)       | 189.993        |\n",
      "| Medium (1000-2000)  | 190.39         |\n",
      "| Large (2000-5000)   | 150.778        |\n"
     ]
    },
    {
     "name": "stderr",
     "output_type": "stream",
     "text": [
      "C:\\Users\\raoul\\AppData\\Local\\Temp\\ipykernel_30656\\1736385657.py:2: FutureWarning: The default of observed=False is deprecated and will be changed to True in a future version of pandas. Pass observed=False to retain current behavior or observed=True to adopt the future default and silence this warning.\n",
      "  overall_passing_rate_by_size = (passing_math_counts_by_size + passing_reading_counts_by_size) / school_data_complete.groupby('school_size_range')['student_name'].count() * 100\n"
     ]
    }
   ],
   "source": [
    "# Calculate the overall passing rate for different school size\n",
    "overall_passing_rate_by_size = (passing_math_counts_by_size + passing_reading_counts_by_size) / school_data_complete.groupby('school_size_range')['student_name'].count() * 100\n",
    "\n",
    "print(\"\\nOverall Passing Rate by School Size:\")\n",
    "print(overall_passing_rate_by_size.to_markdown(numalign=\"left\", stralign=\"left\"))"
   ]
  },
  {
   "cell_type": "markdown",
   "metadata": {},
   "source": [
    "### Scores by School Type"
   ]
  },
  {
   "cell_type": "markdown",
   "metadata": {},
   "source": [
    "* Perform the same operations as above, based on school type."
   ]
  },
  {
   "cell_type": "code",
   "execution_count": 95,
   "metadata": {},
   "outputs": [],
   "source": [
    "# Create bins and groups, school type {'Charter', 'District'}\n",
    "school_type_bins = [-np.inf, 0, np.inf]  # Using -inf and inf to include all values\n",
    "group_names = [\"Charter\", \"District\"]\n",
    "\n",
    "school_data_complete['school_type_range'] = pd.cut(pd.factorize(school_data_complete['type'])[0], bins=school_type_bins, labels=group_names)"
   ]
  },
  {
   "cell_type": "markdown",
   "metadata": {},
   "source": [
    "Find counts of the passing 70 or higher score for the both test\n"
   ]
  },
  {
   "cell_type": "code",
   "execution_count": 97,
   "metadata": {},
   "outputs": [
    {
     "name": "stdout",
     "output_type": "stream",
     "text": [
      "\n",
      "Total Count of Passing Math Scores by School Type:\n",
      "| type     | student_name   |\n",
      "|:---------|:---------------|\n",
      "| Charter  | 11426          |\n",
      "| District | 17944          |\n"
     ]
    }
   ],
   "source": [
    "# math pass size\n",
    "passing_math_counts_by_type = school_data_complete[school_data_complete['math_score'] >= 70].groupby('type')['student_name'].count()\n",
    "\n",
    "\n",
    "print(\"\\nTotal Count of Passing Math Scores by School Type:\")\n",
    "print(passing_math_counts_by_type.to_markdown(numalign=\"left\", stralign=\"left\"))\n",
    "\n"
   ]
  },
  {
   "cell_type": "code",
   "execution_count": 99,
   "metadata": {},
   "outputs": [
    {
     "name": "stdout",
     "output_type": "stream",
     "text": [
      "\n",
      "Total Count of Passing Reading Scores by School Type:\n",
      "| type     | student_name   |\n",
      "|:---------|:---------------|\n",
      "| Charter  | 11785          |\n",
      "| District | 21825          |\n"
     ]
    }
   ],
   "source": [
    "# reading pass size\n",
    "passing_reading_counts_by_type = school_data_complete[school_data_complete['reading_score'] >= 70].groupby('type')['student_name'].count()\n",
    "\n",
    "print(\"\\nTotal Count of Passing Reading Scores by School Type:\")\n",
    "print(passing_reading_counts_by_type.to_markdown(numalign=\"left\", stralign=\"left\"))"
   ]
  },
  {
   "cell_type": "code",
   "execution_count": 101,
   "metadata": {},
   "outputs": [
    {
     "name": "stdout",
     "output_type": "stream",
     "text": [
      "\n",
      "Overall Passing Rate by School Type:\n",
      "| type     | student_name   |\n",
      "|:---------|:---------------|\n",
      "| Charter  | 190.348        |\n",
      "| District | 147.424        |\n"
     ]
    }
   ],
   "source": [
    "# Calculate the overall passing rate\n",
    "overall_passing_rate_by_type = (passing_math_counts_by_type + passing_reading_counts_by_type) / school_data_complete.groupby('type')['student_name'].count() * 100\n",
    "\n",
    "print(\"\\nOverall Passing Rate by School Type:\")\n",
    "print(overall_passing_rate_by_type.to_markdown(numalign=\"left\", stralign=\"left\"))"
   ]
  },
  {
   "cell_type": "code",
   "execution_count": null,
   "metadata": {},
   "outputs": [],
   "source": []
  }
 ],
 "metadata": {
  "anaconda-cloud": {},
  "kernel_info": {
   "name": "python3"
  },
  "kernelspec": {
   "display_name": "Python 3 (ipykernel)",
   "language": "python",
   "name": "python3"
  },
  "language_info": {
   "codemirror_mode": {
    "name": "ipython",
    "version": 3
   },
   "file_extension": ".py",
   "mimetype": "text/x-python",
   "name": "python",
   "nbconvert_exporter": "python",
   "pygments_lexer": "ipython3",
   "version": "3.11.9"
  },
  "latex_envs": {
   "LaTeX_envs_menu_present": true,
   "autoclose": false,
   "autocomplete": true,
   "bibliofile": "biblio.bib",
   "cite_by": "apalike",
   "current_citInitial": 1,
   "eqLabelWithNumbers": true,
   "eqNumInitial": 1,
   "hotkeys": {
    "equation": "Ctrl-E",
    "itemize": "Ctrl-I"
   },
   "labels_anchors": false,
   "latex_user_defs": false,
   "report_style_numbering": false,
   "user_envs_cfg": false
  },
  "nteract": {
   "version": "0.8.4"
  },
  "toc": {
   "base_numbering": 1,
   "nav_menu": {},
   "number_sections": true,
   "sideBar": true,
   "skip_h1_title": false,
   "title_cell": "Table of Contents",
   "title_sidebar": "Contents",
   "toc_cell": false,
   "toc_position": {},
   "toc_section_display": true,
   "toc_window_display": false
  }
 },
 "nbformat": 4,
 "nbformat_minor": 4
}
